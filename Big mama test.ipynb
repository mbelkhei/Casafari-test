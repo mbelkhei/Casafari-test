{
 "cells": [
  {
   "cell_type": "markdown",
   "metadata": {},
   "source": [
    "## Big Mama Test\n",
    "\n",
    "Author: Mohamed Tahar Belkheir"
   ]
  },
  {
   "cell_type": "code",
   "execution_count": 1,
   "metadata": {},
   "outputs": [
    {
     "name": "stderr",
     "output_type": "stream",
     "text": [
      "f:\\Users\\Tahar\\Anacondanew\\envs\\ztdl\\lib\\site-packages\\sklearn\\cross_validation.py:44: DeprecationWarning: This module was deprecated in version 0.18 in favor of the model_selection module into which all the refactored classes and functions are moved. Also note that the interface of the new CV iterators are different from that of this module. This module will be removed in 0.20.\n",
      "  \"This module will be removed in 0.20.\", DeprecationWarning)\n"
     ]
    }
   ],
   "source": [
    "\n",
    "# Data processing\n",
    "import pandas as pd\n",
    "import numpy as np\n",
    "from math import log\n",
    "\n",
    "# Visualization\n",
    "import seaborn as sns\n",
    "import matplotlib.pyplot as plt\n",
    "%matplotlib inline\n",
    "\n",
    "\n",
    "# Model selection\n",
    "from sklearn.preprocessing import RobustScaler\n",
    "from sklearn.cross_validation import train_test_split\n",
    "from sklearn.model_selection import KFold\n",
    "from sklearn.model_selection import cross_val_score\n",
    "from sklearn.model_selection import GridSearchCV\n",
    "from sklearn.utils import shuffle\n",
    "\n",
    "\n",
    "# Predictive models\n",
    "from sklearn.naive_bayes import BernoulliNB\n",
    "from sklearn.linear_model import SGDClassifier\n",
    "from sklearn.linear_model import LogisticRegression\n",
    "from sklearn.svm import SVC\n",
    "from sklearn.ensemble import RandomForestClassifier, VotingClassifier, ExtraTreesClassifier\n",
    "\n",
    "# Evaluation metrics\n",
    "import sklearn.metrics\n",
    "from sklearn.metrics import confusion_matrix,classification_report \n",
    "from sklearn.metrics import precision_score,recall_score, f1_score\n",
    "from sklearn.metrics import roc_auc_score\n",
    "\n",
    "\n"
   ]
  },
  {
   "cell_type": "markdown",
   "metadata": {},
   "source": [
    "### Load the data"
   ]
  },
  {
   "cell_type": "code",
   "execution_count": 2,
   "metadata": {
    "collapsed": true
   },
   "outputs": [],
   "source": [
    "train = pd.read_csv('data/train.csv', dtype = {'support_id':'O'})\n",
    "test = pd.read_csv('data/test.csv',  dtype = {'support_id':'O'})"
   ]
  },
  {
   "cell_type": "code",
   "execution_count": 3,
   "metadata": {},
   "outputs": [
    {
     "data": {
      "text/html": [
       "<div>\n",
       "<style>\n",
       "    .dataframe thead tr:only-child th {\n",
       "        text-align: right;\n",
       "    }\n",
       "\n",
       "    .dataframe thead th {\n",
       "        text-align: left;\n",
       "    }\n",
       "\n",
       "    .dataframe tbody tr th {\n",
       "        vertical-align: top;\n",
       "    }\n",
       "</style>\n",
       "<table border=\"1\" class=\"dataframe\">\n",
       "  <thead>\n",
       "    <tr style=\"text-align: right;\">\n",
       "      <th></th>\n",
       "      <th>timestamp</th>\n",
       "      <th>bidid</th>\n",
       "      <th>device_id</th>\n",
       "      <th>user_id</th>\n",
       "      <th>format</th>\n",
       "      <th>bidfloor</th>\n",
       "      <th>support_type</th>\n",
       "      <th>support_id</th>\n",
       "      <th>device_type</th>\n",
       "      <th>device_os</th>\n",
       "      <th>device_language</th>\n",
       "      <th>device_model</th>\n",
       "      <th>verticals_0</th>\n",
       "      <th>verticals_1</th>\n",
       "      <th>verticals_2</th>\n",
       "      <th>vertical_3</th>\n",
       "      <th>ad_id</th>\n",
       "      <th>bid_price</th>\n",
       "      <th>won_price</th>\n",
       "      <th>clicked</th>\n",
       "    </tr>\n",
       "  </thead>\n",
       "  <tbody>\n",
       "    <tr>\n",
       "      <th>0</th>\n",
       "      <td>1430158023</td>\n",
       "      <td>VT56YgANZ5sK24hIAgB7+w==</td>\n",
       "      <td>a2304e2d-dd95-4431-a06e-9b976b83781f</td>\n",
       "      <td>CAESEJ5yQ9WDEoC_KMd3DzKeKl0</td>\n",
       "      <td>320x480</td>\n",
       "      <td>200000000</td>\n",
       "      <td>app</td>\n",
       "      <td>623367437</td>\n",
       "      <td>1</td>\n",
       "      <td>ios</td>\n",
       "      <td>fr_FR</td>\n",
       "      <td>iphone</td>\n",
       "      <td>1494</td>\n",
       "      <td>1462</td>\n",
       "      <td>105</td>\n",
       "      <td>937</td>\n",
       "      <td>544489</td>\n",
       "      <td>280000000</td>\n",
       "      <td>116000000</td>\n",
       "      <td>0</td>\n",
       "    </tr>\n",
       "    <tr>\n",
       "      <th>1</th>\n",
       "      <td>1430158024</td>\n",
       "      <td>VT56ZAAAeWMKNCwO6ABg+w==</td>\n",
       "      <td>fdef5b70-64c3-4afa-8e0e-8587bd4887e2</td>\n",
       "      <td>CAESEJ6WxEBHVaDXLlrXknLTCoA</td>\n",
       "      <td>320x480</td>\n",
       "      <td>1000000</td>\n",
       "      <td>app</td>\n",
       "      <td>353599677</td>\n",
       "      <td>1</td>\n",
       "      <td>ios</td>\n",
       "      <td>tr_TR</td>\n",
       "      <td>iphone</td>\n",
       "      <td>408</td>\n",
       "      <td>1462</td>\n",
       "      <td>1109</td>\n",
       "      <td>16</td>\n",
       "      <td>544489</td>\n",
       "      <td>280000000</td>\n",
       "      <td>195000000</td>\n",
       "      <td>0</td>\n",
       "    </tr>\n",
       "    <tr>\n",
       "      <th>2</th>\n",
       "      <td>1430158024</td>\n",
       "      <td>VT56ZAALt/oKG+GTGwB6sg==</td>\n",
       "      <td>db4cfc36-27f7-4e92-8201-d71d9b4d6cf7</td>\n",
       "      <td>CAESEPcNDSPNESnmoWp1Zck6j8A</td>\n",
       "      <td>320x480</td>\n",
       "      <td>199000000</td>\n",
       "      <td>app</td>\n",
       "      <td>911152486</td>\n",
       "      <td>1</td>\n",
       "      <td>ios</td>\n",
       "      <td>fr_FR</td>\n",
       "      <td>ipod</td>\n",
       "      <td>937</td>\n",
       "      <td>926</td>\n",
       "      <td>1462</td>\n",
       "      <td>1536</td>\n",
       "      <td>544489</td>\n",
       "      <td>280000000</td>\n",
       "      <td>241000000</td>\n",
       "      <td>0</td>\n",
       "    </tr>\n",
       "    <tr>\n",
       "      <th>3</th>\n",
       "      <td>1430158024</td>\n",
       "      <td>VT56ZAAMtH0KwmKp4AANng==</td>\n",
       "      <td>e113e09f-1899-4f97-94ac-00e243d8ef70</td>\n",
       "      <td>CAESELMvW0Vh_8Uwsio5w99n4qk</td>\n",
       "      <td>320x480</td>\n",
       "      <td>190000000</td>\n",
       "      <td>app</td>\n",
       "      <td>911793120</td>\n",
       "      <td>1</td>\n",
       "      <td>ios</td>\n",
       "      <td>fr_FR</td>\n",
       "      <td>iphone</td>\n",
       "      <td>937</td>\n",
       "      <td>1462</td>\n",
       "      <td>1536</td>\n",
       "      <td>1461</td>\n",
       "      <td>544489</td>\n",
       "      <td>280000000</td>\n",
       "      <td>137000000</td>\n",
       "      <td>0</td>\n",
       "    </tr>\n",
       "    <tr>\n",
       "      <th>4</th>\n",
       "      <td>1430158024</td>\n",
       "      <td>VT56ZAAOT5QKfN8IfAAieQ==</td>\n",
       "      <td>96653962-3033-476b-9dff-95d188f52d6d</td>\n",
       "      <td>CAESEKhcSWjJJHrkM-XAEDNaxgE</td>\n",
       "      <td>320x480</td>\n",
       "      <td>188000000</td>\n",
       "      <td>app</td>\n",
       "      <td>484115113</td>\n",
       "      <td>1</td>\n",
       "      <td>ios</td>\n",
       "      <td>fr_FR</td>\n",
       "      <td>iphone</td>\n",
       "      <td>61</td>\n",
       "      <td>13</td>\n",
       "      <td>299</td>\n",
       "      <td>0</td>\n",
       "      <td>544489</td>\n",
       "      <td>280000000</td>\n",
       "      <td>188000000</td>\n",
       "      <td>0</td>\n",
       "    </tr>\n",
       "  </tbody>\n",
       "</table>\n",
       "</div>"
      ],
      "text/plain": [
       "    timestamp                     bidid                             device_id  \\\n",
       "0  1430158023  VT56YgANZ5sK24hIAgB7+w==  a2304e2d-dd95-4431-a06e-9b976b83781f   \n",
       "1  1430158024  VT56ZAAAeWMKNCwO6ABg+w==  fdef5b70-64c3-4afa-8e0e-8587bd4887e2   \n",
       "2  1430158024  VT56ZAALt/oKG+GTGwB6sg==  db4cfc36-27f7-4e92-8201-d71d9b4d6cf7   \n",
       "3  1430158024  VT56ZAAMtH0KwmKp4AANng==  e113e09f-1899-4f97-94ac-00e243d8ef70   \n",
       "4  1430158024  VT56ZAAOT5QKfN8IfAAieQ==  96653962-3033-476b-9dff-95d188f52d6d   \n",
       "\n",
       "                       user_id   format   bidfloor support_type support_id  \\\n",
       "0  CAESEJ5yQ9WDEoC_KMd3DzKeKl0  320x480  200000000          app  623367437   \n",
       "1  CAESEJ6WxEBHVaDXLlrXknLTCoA  320x480    1000000          app  353599677   \n",
       "2  CAESEPcNDSPNESnmoWp1Zck6j8A  320x480  199000000          app  911152486   \n",
       "3  CAESELMvW0Vh_8Uwsio5w99n4qk  320x480  190000000          app  911793120   \n",
       "4  CAESEKhcSWjJJHrkM-XAEDNaxgE  320x480  188000000          app  484115113   \n",
       "\n",
       "   device_type device_os device_language device_model  verticals_0  \\\n",
       "0            1       ios           fr_FR       iphone         1494   \n",
       "1            1       ios           tr_TR       iphone          408   \n",
       "2            1       ios           fr_FR         ipod          937   \n",
       "3            1       ios           fr_FR       iphone          937   \n",
       "4            1       ios           fr_FR       iphone           61   \n",
       "\n",
       "   verticals_1  verticals_2  vertical_3   ad_id  bid_price  won_price  clicked  \n",
       "0         1462          105         937  544489  280000000  116000000        0  \n",
       "1         1462         1109          16  544489  280000000  195000000        0  \n",
       "2          926         1462        1536  544489  280000000  241000000        0  \n",
       "3         1462         1536        1461  544489  280000000  137000000        0  \n",
       "4           13          299           0  544489  280000000  188000000        0  "
      ]
     },
     "execution_count": 3,
     "metadata": {},
     "output_type": "execute_result"
    }
   ],
   "source": [
    "train.head()"
   ]
  },
  {
   "cell_type": "code",
   "execution_count": 4,
   "metadata": {},
   "outputs": [
    {
     "data": {
      "text/html": [
       "<div>\n",
       "<style>\n",
       "    .dataframe thead tr:only-child th {\n",
       "        text-align: right;\n",
       "    }\n",
       "\n",
       "    .dataframe thead th {\n",
       "        text-align: left;\n",
       "    }\n",
       "\n",
       "    .dataframe tbody tr th {\n",
       "        vertical-align: top;\n",
       "    }\n",
       "</style>\n",
       "<table border=\"1\" class=\"dataframe\">\n",
       "  <thead>\n",
       "    <tr style=\"text-align: right;\">\n",
       "      <th></th>\n",
       "      <th>timestamp</th>\n",
       "      <th>bidid</th>\n",
       "      <th>device_id</th>\n",
       "      <th>user_id</th>\n",
       "      <th>format</th>\n",
       "      <th>bidfloor</th>\n",
       "      <th>support_type</th>\n",
       "      <th>support_id</th>\n",
       "      <th>device_type</th>\n",
       "      <th>device_os</th>\n",
       "      <th>device_language</th>\n",
       "      <th>device_model</th>\n",
       "      <th>verticals_0</th>\n",
       "      <th>verticals_1</th>\n",
       "      <th>verticals_2</th>\n",
       "      <th>vertical_3</th>\n",
       "      <th>ad_id</th>\n",
       "      <th>bid_price</th>\n",
       "      <th>won_price</th>\n",
       "    </tr>\n",
       "  </thead>\n",
       "  <tbody>\n",
       "    <tr>\n",
       "      <th>0</th>\n",
       "      <td>1430264861</td>\n",
       "      <td>VUAbtwAKfUwKG+JOugBfTw==</td>\n",
       "      <td>20189672-3ca0-48f8-957f-b2400005fea2</td>\n",
       "      <td>CAESEO1swnwzbyP_ulp5I6dwI9w</td>\n",
       "      <td>320x480</td>\n",
       "      <td>1000000</td>\n",
       "      <td>app</td>\n",
       "      <td>606697013</td>\n",
       "      <td>1</td>\n",
       "      <td>ios</td>\n",
       "      <td>en_EN</td>\n",
       "      <td>iphone</td>\n",
       "      <td>675</td>\n",
       "      <td>1462</td>\n",
       "      <td>0</td>\n",
       "      <td>0</td>\n",
       "      <td>544501</td>\n",
       "      <td>220000000</td>\n",
       "      <td>184000000</td>\n",
       "    </tr>\n",
       "    <tr>\n",
       "      <th>1</th>\n",
       "      <td>1430264862</td>\n",
       "      <td>VUAbuAANjzkKwo3v1AB++g==</td>\n",
       "      <td>8f46fac0-8893-4547-8ec7-028b4812057a</td>\n",
       "      <td>CAESEMgZsfgjSKT7GvZNAtFJaAs</td>\n",
       "      <td>320x480</td>\n",
       "      <td>1000000</td>\n",
       "      <td>app</td>\n",
       "      <td>905455244</td>\n",
       "      <td>1</td>\n",
       "      <td>ios</td>\n",
       "      <td>fr_FR</td>\n",
       "      <td>iphone</td>\n",
       "      <td>926</td>\n",
       "      <td>1462</td>\n",
       "      <td>1536</td>\n",
       "      <td>1071</td>\n",
       "      <td>544477</td>\n",
       "      <td>220000000</td>\n",
       "      <td>198000000</td>\n",
       "    </tr>\n",
       "    <tr>\n",
       "      <th>2</th>\n",
       "      <td>1430264862</td>\n",
       "      <td>VUAbuQAA39MKwuUk0wBMBQ==</td>\n",
       "      <td>692cb285-3ed0-4294-afda-fefb7a877238</td>\n",
       "      <td>CAESECYlSHMNcbKaLUtv2aXuBYw</td>\n",
       "      <td>320x480</td>\n",
       "      <td>197000000</td>\n",
       "      <td>app</td>\n",
       "      <td>623367437</td>\n",
       "      <td>1</td>\n",
       "      <td>ios</td>\n",
       "      <td>fr_FR</td>\n",
       "      <td>iphone</td>\n",
       "      <td>1494</td>\n",
       "      <td>1462</td>\n",
       "      <td>105</td>\n",
       "      <td>937</td>\n",
       "      <td>544501</td>\n",
       "      <td>220000000</td>\n",
       "      <td>197000000</td>\n",
       "    </tr>\n",
       "    <tr>\n",
       "      <th>3</th>\n",
       "      <td>1430264862</td>\n",
       "      <td>VUAbuQAB6HoKG+HGlQAW1w==</td>\n",
       "      <td>81f53cbd-0a22-4b94-87fb-8f3f4ef8148f</td>\n",
       "      <td>CAESEIM8HpwwPdYg_1FhZwa9sHo</td>\n",
       "      <td>320x480</td>\n",
       "      <td>198000000</td>\n",
       "      <td>app</td>\n",
       "      <td>911152486</td>\n",
       "      <td>1</td>\n",
       "      <td>ios</td>\n",
       "      <td>fr_FR</td>\n",
       "      <td>iphone</td>\n",
       "      <td>937</td>\n",
       "      <td>926</td>\n",
       "      <td>1462</td>\n",
       "      <td>1536</td>\n",
       "      <td>544501</td>\n",
       "      <td>220000000</td>\n",
       "      <td>208000000</td>\n",
       "    </tr>\n",
       "    <tr>\n",
       "      <th>4</th>\n",
       "      <td>1430264862</td>\n",
       "      <td>VUAbuQAJO6cKGxPLvQB1Sw==</td>\n",
       "      <td>cab4ae17-6b48-483e-ba68-ad49c8d944a0</td>\n",
       "      <td>CAESEK2HiR6F1ncLdKqp_F6vOF8</td>\n",
       "      <td>320x480</td>\n",
       "      <td>1000000</td>\n",
       "      <td>app</td>\n",
       "      <td>506916707</td>\n",
       "      <td>1</td>\n",
       "      <td>ios</td>\n",
       "      <td>en_EN</td>\n",
       "      <td>iphone</td>\n",
       "      <td>386</td>\n",
       "      <td>384</td>\n",
       "      <td>13</td>\n",
       "      <td>1379</td>\n",
       "      <td>544501</td>\n",
       "      <td>220000000</td>\n",
       "      <td>107000000</td>\n",
       "    </tr>\n",
       "  </tbody>\n",
       "</table>\n",
       "</div>"
      ],
      "text/plain": [
       "    timestamp                     bidid                             device_id  \\\n",
       "0  1430264861  VUAbtwAKfUwKG+JOugBfTw==  20189672-3ca0-48f8-957f-b2400005fea2   \n",
       "1  1430264862  VUAbuAANjzkKwo3v1AB++g==  8f46fac0-8893-4547-8ec7-028b4812057a   \n",
       "2  1430264862  VUAbuQAA39MKwuUk0wBMBQ==  692cb285-3ed0-4294-afda-fefb7a877238   \n",
       "3  1430264862  VUAbuQAB6HoKG+HGlQAW1w==  81f53cbd-0a22-4b94-87fb-8f3f4ef8148f   \n",
       "4  1430264862  VUAbuQAJO6cKGxPLvQB1Sw==  cab4ae17-6b48-483e-ba68-ad49c8d944a0   \n",
       "\n",
       "                       user_id   format   bidfloor support_type support_id  \\\n",
       "0  CAESEO1swnwzbyP_ulp5I6dwI9w  320x480    1000000          app  606697013   \n",
       "1  CAESEMgZsfgjSKT7GvZNAtFJaAs  320x480    1000000          app  905455244   \n",
       "2  CAESECYlSHMNcbKaLUtv2aXuBYw  320x480  197000000          app  623367437   \n",
       "3  CAESEIM8HpwwPdYg_1FhZwa9sHo  320x480  198000000          app  911152486   \n",
       "4  CAESEK2HiR6F1ncLdKqp_F6vOF8  320x480    1000000          app  506916707   \n",
       "\n",
       "   device_type device_os device_language device_model  verticals_0  \\\n",
       "0            1       ios           en_EN       iphone          675   \n",
       "1            1       ios           fr_FR       iphone          926   \n",
       "2            1       ios           fr_FR       iphone         1494   \n",
       "3            1       ios           fr_FR       iphone          937   \n",
       "4            1       ios           en_EN       iphone          386   \n",
       "\n",
       "   verticals_1  verticals_2  vertical_3   ad_id  bid_price  won_price  \n",
       "0         1462            0           0  544501  220000000  184000000  \n",
       "1         1462         1536        1071  544477  220000000  198000000  \n",
       "2         1462          105         937  544501  220000000  197000000  \n",
       "3          926         1462        1536  544501  220000000  208000000  \n",
       "4          384           13        1379  544501  220000000  107000000  "
      ]
     },
     "execution_count": 4,
     "metadata": {},
     "output_type": "execute_result"
    }
   ],
   "source": [
    "test.head()"
   ]
  },
  {
   "cell_type": "code",
   "execution_count": 5,
   "metadata": {},
   "outputs": [
    {
     "name": "stdout",
     "output_type": "stream",
     "text": [
      "The Train shape is (762239, 20)\n",
      "The Test shape is (508158, 19)\n"
     ]
    }
   ],
   "source": [
    "print('The Train shape is {}\\nThe Test shape is {}'.format(train.shape,test.shape))"
   ]
  },
  {
   "cell_type": "code",
   "execution_count": 6,
   "metadata": {},
   "outputs": [
    {
     "name": "stdout",
     "output_type": "stream",
     "text": [
      "<class 'pandas.core.frame.DataFrame'>\n",
      "RangeIndex: 762239 entries, 0 to 762238\n",
      "Data columns (total 20 columns):\n",
      "timestamp          762239 non-null int64\n",
      "bidid              762239 non-null object\n",
      "device_id          762239 non-null object\n",
      "user_id            762239 non-null object\n",
      "format             762239 non-null object\n",
      "bidfloor           762239 non-null int64\n",
      "support_type       762239 non-null object\n",
      "support_id         762239 non-null object\n",
      "device_type        762239 non-null int64\n",
      "device_os          762239 non-null object\n",
      "device_language    762239 non-null object\n",
      "device_model       762239 non-null object\n",
      "verticals_0        762239 non-null int64\n",
      "verticals_1        762239 non-null int64\n",
      "verticals_2        762239 non-null int64\n",
      "vertical_3         762239 non-null int64\n",
      "ad_id              762239 non-null int64\n",
      "bid_price          762239 non-null int64\n",
      "won_price          762239 non-null int64\n",
      "clicked            762239 non-null int64\n",
      "dtypes: int64(11), object(9)\n",
      "memory usage: 116.3+ MB\n"
     ]
    }
   ],
   "source": [
    "train.info()"
   ]
  },
  {
   "cell_type": "code",
   "execution_count": 7,
   "metadata": {},
   "outputs": [
    {
     "name": "stdout",
     "output_type": "stream",
     "text": [
      "<class 'pandas.core.frame.DataFrame'>\n",
      "RangeIndex: 508158 entries, 0 to 508157\n",
      "Data columns (total 19 columns):\n",
      "timestamp          508158 non-null int64\n",
      "bidid              508158 non-null object\n",
      "device_id          508158 non-null object\n",
      "user_id            508158 non-null object\n",
      "format             508158 non-null object\n",
      "bidfloor           508158 non-null int64\n",
      "support_type       508158 non-null object\n",
      "support_id         508158 non-null object\n",
      "device_type        508158 non-null int64\n",
      "device_os          508158 non-null object\n",
      "device_language    508158 non-null object\n",
      "device_model       508158 non-null object\n",
      "verticals_0        508158 non-null int64\n",
      "verticals_1        508158 non-null int64\n",
      "verticals_2        508158 non-null int64\n",
      "vertical_3         508158 non-null int64\n",
      "ad_id              508158 non-null int64\n",
      "bid_price          508158 non-null int64\n",
      "won_price          508158 non-null int64\n",
      "dtypes: int64(10), object(9)\n",
      "memory usage: 73.7+ MB\n"
     ]
    }
   ],
   "source": [
    "test.info()"
   ]
  },
  {
   "cell_type": "markdown",
   "metadata": {},
   "source": [
    "Both train and test datasets look to have no missing values, thus, we won't care about imputing data in this model"
   ]
  },
  {
   "cell_type": "code",
   "execution_count": 8,
   "metadata": {},
   "outputs": [
    {
     "data": {
      "text/plain": [
       "<matplotlib.axes._subplots.AxesSubplot at 0x40ea1b780>"
      ]
     },
     "execution_count": 8,
     "metadata": {},
     "output_type": "execute_result"
    },
    {
     "data": {
      "image/png": "[encoded data removed]",
      "text/plain": [
       "<matplotlib.figure.Figure at 0x400588a20>"
      ]
     },
     "metadata": {},
     "output_type": "display_data"
    }
   ],
   "source": [
    "# visualize the target variable \"Clicked\"\n",
    "sns.countplot(x='clicked',data=train)"
   ]
  },
  {
   "cell_type": "code",
   "execution_count": 9,
   "metadata": {},
   "outputs": [
    {
     "data": {
      "text/plain": [
       "0    724386\n",
       "1     37853\n",
       "Name: clicked, dtype: int64"
      ]
     },
     "execution_count": 9,
     "metadata": {},
     "output_type": "execute_result"
    }
   ],
   "source": [
    "train['clicked'].value_counts()"
   ]
  },
  {
   "cell_type": "code",
   "execution_count": 10,
   "metadata": {},
   "outputs": [
    {
     "name": "stdout",
     "output_type": "stream",
     "text": [
      "The ratio of 'not clicked' to 'clicked' is 19:1\n"
     ]
    }
   ],
   "source": [
    "ratio = int(train['clicked'].value_counts(normalize=True)[0]/train['clicked'].value_counts(normalize=True)[1])\n",
    "print(\"The ratio of 'not clicked' to 'clicked' is {}:1\".format(ratio))"
   ]
  },
  {
   "cell_type": "markdown",
   "metadata": {},
   "source": [
    "It is clear that there is a large class unbalance. We would explore the techniques of : Under/Over sampling. Since the dataset is large, the technique that will be used is uders sampling. In order to keep validation error small, Boostrap sampling will be used with stacked or voting ensemble model"
   ]
  },
  {
   "cell_type": "markdown",
   "metadata": {},
   "source": [
    "## Features exploration"
   ]
  },
  {
   "cell_type": "code",
   "execution_count": 11,
   "metadata": {},
   "outputs": [
    {
     "name": "stdout",
     "output_type": "stream",
     "text": [
      "The features are:\n",
      "\n",
      " Index(['timestamp', 'bidid', 'device_id', 'user_id', 'format', 'bidfloor',\n",
      "       'support_type', 'support_id', 'device_type', 'device_os',\n",
      "       'device_language', 'device_model', 'verticals_0', 'verticals_1',\n",
      "       'verticals_2', 'vertical_3', 'ad_id', 'bid_price', 'won_price',\n",
      "       'clicked'],\n",
      "      dtype='object')\n"
     ]
    }
   ],
   "source": [
    "print('The features are:\\n\\n',train.columns)"
   ]
  },
  {
   "cell_type": "code",
   "execution_count": 12,
   "metadata": {
    "collapsed": true
   },
   "outputs": [],
   "source": [
    "data = [train,test]"
   ]
  },
  {
   "cell_type": "code",
   "execution_count": 13,
   "metadata": {
    "collapsed": true
   },
   "outputs": [],
   "source": [
    "def drop_features(train_test,*args):\n",
    "    for f in args:\n",
    "        data[0].drop(f,axis=1,inplace=True)\n",
    "        data[1].drop(f,axis=1,inplace=True)\n",
    "        \n",
    "def cardinality(data, *args):\n",
    "    print('Calculating cardinality for {}\\n'.format(data[0]))\n",
    "    for item in args:\n",
    "        print('cardinality of {} is {}'.format(item, data[1][item].unique().shape[0]))\n",
    "    "
   ]
  },
  {
   "cell_type": "markdown",
   "metadata": {},
   "source": [
    "#### timestamp"
   ]
  },
  {
   "cell_type": "markdown",
   "metadata": {},
   "source": [
    "*timestamp* won't be considered in the model as this is not a timeseries approach"
   ]
  },
  {
   "cell_type": "code",
   "execution_count": 14,
   "metadata": {
    "collapsed": true
   },
   "outputs": [],
   "source": [
    "drop_features(data,['timestamp'])"
   ]
  },
  {
   "cell_type": "markdown",
   "metadata": {},
   "source": [
    "#### device_os, device_type, format"
   ]
  },
  {
   "cell_type": "code",
   "execution_count": 15,
   "metadata": {},
   "outputs": [
    {
     "name": "stdout",
     "output_type": "stream",
     "text": [
      "Calculating cardinality for train\n",
      "\n",
      "cardinality of device_os is 1\n",
      "cardinality of device_type is 1\n",
      "cardinality of format is 1\n"
     ]
    }
   ],
   "source": [
    "cardinality(['train',train],'device_os','device_type','format')"
   ]
  },
  {
   "cell_type": "markdown",
   "metadata": {},
   "source": [
    "we notice that device_os, device_type, and format are constants and can be discarded"
   ]
  },
  {
   "cell_type": "code",
   "execution_count": 16,
   "metadata": {
    "collapsed": true
   },
   "outputs": [],
   "source": [
    "drop_features(data,['device_os','device_type','format'])"
   ]
  },
  {
   "cell_type": "markdown",
   "metadata": {},
   "source": [
    "#### device_id, user_id, ad_id, support_id, bidid"
   ]
  },
  {
   "cell_type": "code",
   "execution_count": 17,
   "metadata": {
    "collapsed": true
   },
   "outputs": [],
   "source": [
    "train_id = train[['device_id', 'user_id','ad_id','support_id','bidid']]\n",
    "test_id  = test[['device_id', 'user_id','ad_id','support_id','bidid']]"
   ]
  },
  {
   "cell_type": "code",
   "execution_count": 18,
   "metadata": {},
   "outputs": [
    {
     "name": "stdout",
     "output_type": "stream",
     "text": [
      "Calculating cardinality for train\n",
      "\n",
      "cardinality of device_id is 317010\n",
      "cardinality of user_id is 316552\n",
      "cardinality of ad_id is 3\n",
      "cardinality of support_id is 3309\n",
      "cardinality of bidid is 762239\n"
     ]
    }
   ],
   "source": [
    "cardinality(['train',train],'device_id', 'user_id','ad_id','support_id','bidid')"
   ]
  },
  {
   "cell_type": "code",
   "execution_count": 19,
   "metadata": {},
   "outputs": [
    {
     "name": "stdout",
     "output_type": "stream",
     "text": [
      "Calculating cardinality for test\n",
      "\n",
      "cardinality of device_id is 215059\n",
      "cardinality of user_id is 214824\n",
      "cardinality of ad_id is 4\n",
      "cardinality of support_id is 4055\n",
      "cardinality of bidid is 508158\n"
     ]
    }
   ],
   "source": [
    "cardinality(['test',test],'device_id', 'user_id','ad_id','support_id','bidid')"
   ]
  },
  {
   "cell_type": "code",
   "execution_count": 20,
   "metadata": {},
   "outputs": [
    {
     "name": "stdout",
     "output_type": "stream",
     "text": [
      "There are 317010 unique device_id in train\n",
      "There are 215059 unique device_id in test      \n",
      "There are 75494 unique device_id that are in test and train dataset\n"
     ]
    }
   ],
   "source": [
    "device_id_train = set(train['device_id'].unique())\n",
    "device_id_test  = set(test['device_id'].unique())\n",
    "print('There are {} unique device_id in train\\nThere are {} unique device_id in test\\\n",
    "      \\nThere are {} unique device_id that are in test and train dataset'\\\n",
    "      .format(len(device_id_train),len(device_id_test),len([x for x in device_id_test if x in device_id_train])))"
   ]
  },
  {
   "cell_type": "code",
   "execution_count": 21,
   "metadata": {},
   "outputs": [
    {
     "name": "stdout",
     "output_type": "stream",
     "text": [
      "There are 316552 unique user_id in train\n",
      "There are 214824 unique user_id in test      \n",
      "There are 75633 unique user_id that are in test and train dataset\n"
     ]
    }
   ],
   "source": [
    "device_id_train = set(train['user_id'].unique())\n",
    "device_id_test  = set(test['user_id'].unique())\n",
    "print('There are {} unique user_id in train\\nThere are {} unique user_id in test\\\n",
    "      \\nThere are {} unique user_id that are in test and train dataset'\\\n",
    "      .format(len(device_id_train),len(device_id_test),len([x for x in device_id_test if x in device_id_train])))"
   ]
  },
  {
   "cell_type": "markdown",
   "metadata": {},
   "source": [
    "- **ad_id:** 4 classes in test and 3 classes in train, we are missing one class that we don't have information about. We discard this feature from the model\n",
    "- **support_id:** 4055 unique classes in test data and 3309 in train data, there is a difference of 746 new classes that are present in test data and not present in train data. We discard this feature from the model\n",
    "- **bidid:** this class looks to be the unique identification number for every add that exist in test and train data. this will be used in final submission to measure accuracy of test data\n",
    "- **user_id** and **device_id**: when looking at unique classes in test and train datasets, we see that not all classes present in test dataset are present in train dataset. we discard this feature from the model"
   ]
  },
  {
   "cell_type": "code",
   "execution_count": 22,
   "metadata": {
    "collapsed": true
   },
   "outputs": [],
   "source": [
    "train_id = train['bidid']\n",
    "test_id  = test['bidid']"
   ]
  },
  {
   "cell_type": "code",
   "execution_count": 23,
   "metadata": {
    "collapsed": true
   },
   "outputs": [],
   "source": [
    "drop_features(data,['ad_id','support_id','user_id','device_id','bidid'])"
   ]
  },
  {
   "cell_type": "code",
   "execution_count": 24,
   "metadata": {},
   "outputs": [
    {
     "data": {
      "text/html": [
       "<div>\n",
       "<style>\n",
       "    .dataframe thead tr:only-child th {\n",
       "        text-align: right;\n",
       "    }\n",
       "\n",
       "    .dataframe thead th {\n",
       "        text-align: left;\n",
       "    }\n",
       "\n",
       "    .dataframe tbody tr th {\n",
       "        vertical-align: top;\n",
       "    }\n",
       "</style>\n",
       "<table border=\"1\" class=\"dataframe\">\n",
       "  <thead>\n",
       "    <tr style=\"text-align: right;\">\n",
       "      <th></th>\n",
       "      <th>bidfloor</th>\n",
       "      <th>support_type</th>\n",
       "      <th>device_language</th>\n",
       "      <th>device_model</th>\n",
       "      <th>verticals_0</th>\n",
       "      <th>verticals_1</th>\n",
       "      <th>verticals_2</th>\n",
       "      <th>vertical_3</th>\n",
       "      <th>bid_price</th>\n",
       "      <th>won_price</th>\n",
       "      <th>clicked</th>\n",
       "    </tr>\n",
       "  </thead>\n",
       "  <tbody>\n",
       "    <tr>\n",
       "      <th>0</th>\n",
       "      <td>200000000</td>\n",
       "      <td>app</td>\n",
       "      <td>fr_FR</td>\n",
       "      <td>iphone</td>\n",
       "      <td>1494</td>\n",
       "      <td>1462</td>\n",
       "      <td>105</td>\n",
       "      <td>937</td>\n",
       "      <td>280000000</td>\n",
       "      <td>116000000</td>\n",
       "      <td>0</td>\n",
       "    </tr>\n",
       "    <tr>\n",
       "      <th>1</th>\n",
       "      <td>1000000</td>\n",
       "      <td>app</td>\n",
       "      <td>tr_TR</td>\n",
       "      <td>iphone</td>\n",
       "      <td>408</td>\n",
       "      <td>1462</td>\n",
       "      <td>1109</td>\n",
       "      <td>16</td>\n",
       "      <td>280000000</td>\n",
       "      <td>195000000</td>\n",
       "      <td>0</td>\n",
       "    </tr>\n",
       "    <tr>\n",
       "      <th>2</th>\n",
       "      <td>199000000</td>\n",
       "      <td>app</td>\n",
       "      <td>fr_FR</td>\n",
       "      <td>ipod</td>\n",
       "      <td>937</td>\n",
       "      <td>926</td>\n",
       "      <td>1462</td>\n",
       "      <td>1536</td>\n",
       "      <td>280000000</td>\n",
       "      <td>241000000</td>\n",
       "      <td>0</td>\n",
       "    </tr>\n",
       "    <tr>\n",
       "      <th>3</th>\n",
       "      <td>190000000</td>\n",
       "      <td>app</td>\n",
       "      <td>fr_FR</td>\n",
       "      <td>iphone</td>\n",
       "      <td>937</td>\n",
       "      <td>1462</td>\n",
       "      <td>1536</td>\n",
       "      <td>1461</td>\n",
       "      <td>280000000</td>\n",
       "      <td>137000000</td>\n",
       "      <td>0</td>\n",
       "    </tr>\n",
       "    <tr>\n",
       "      <th>4</th>\n",
       "      <td>188000000</td>\n",
       "      <td>app</td>\n",
       "      <td>fr_FR</td>\n",
       "      <td>iphone</td>\n",
       "      <td>61</td>\n",
       "      <td>13</td>\n",
       "      <td>299</td>\n",
       "      <td>0</td>\n",
       "      <td>280000000</td>\n",
       "      <td>188000000</td>\n",
       "      <td>0</td>\n",
       "    </tr>\n",
       "  </tbody>\n",
       "</table>\n",
       "</div>"
      ],
      "text/plain": [
       "    bidfloor support_type device_language device_model  verticals_0  \\\n",
       "0  200000000          app           fr_FR       iphone         1494   \n",
       "1    1000000          app           tr_TR       iphone          408   \n",
       "2  199000000          app           fr_FR         ipod          937   \n",
       "3  190000000          app           fr_FR       iphone          937   \n",
       "4  188000000          app           fr_FR       iphone           61   \n",
       "\n",
       "   verticals_1  verticals_2  vertical_3  bid_price  won_price  clicked  \n",
       "0         1462          105         937  280000000  116000000        0  \n",
       "1         1462         1109          16  280000000  195000000        0  \n",
       "2          926         1462        1536  280000000  241000000        0  \n",
       "3         1462         1536        1461  280000000  137000000        0  \n",
       "4           13          299           0  280000000  188000000        0  "
      ]
     },
     "execution_count": 24,
     "metadata": {},
     "output_type": "execute_result"
    }
   ],
   "source": [
    "train.head()"
   ]
  },
  {
   "cell_type": "markdown",
   "metadata": {},
   "source": [
    "#### support_type, device_model, device_language"
   ]
  },
  {
   "cell_type": "code",
   "execution_count": 25,
   "metadata": {},
   "outputs": [
    {
     "name": "stdout",
     "output_type": "stream",
     "text": [
      "Calculating cardinality for train\n",
      "\n",
      "cardinality of support_type is 2\n",
      "cardinality of device_model is 2\n",
      "cardinality of device_language is 52\n"
     ]
    }
   ],
   "source": [
    "cardinality(['train',train],'support_type','device_model','device_language')"
   ]
  },
  {
   "cell_type": "code",
   "execution_count": 26,
   "metadata": {},
   "outputs": [
    {
     "name": "stdout",
     "output_type": "stream",
     "text": [
      "Calculating cardinality for test\n",
      "\n",
      "cardinality of support_type is 2\n",
      "cardinality of device_model is 2\n",
      "cardinality of device_language is 53\n"
     ]
    }
   ],
   "source": [
    "cardinality(['test',test],'support_type','device_model','device_language')"
   ]
  },
  {
   "cell_type": "code",
   "execution_count": 27,
   "metadata": {},
   "outputs": [
    {
     "data": {
      "text/plain": [
       "app        762130\n",
       "website       109\n",
       "Name: support_type, dtype: int64"
      ]
     },
     "execution_count": 27,
     "metadata": {},
     "output_type": "execute_result"
    }
   ],
   "source": [
    "# Look at support_type\n",
    "train['support_type'].value_counts()"
   ]
  },
  {
   "cell_type": "code",
   "execution_count": 28,
   "metadata": {},
   "outputs": [
    {
     "data": {
      "text/plain": [
       "support_type\n",
       "app        37853\n",
       "website        0\n",
       "Name: clicked, dtype: int64"
      ]
     },
     "execution_count": 28,
     "metadata": {},
     "output_type": "execute_result"
    }
   ],
   "source": [
    "train.groupby('support_type')['clicked'].sum()"
   ]
  },
  {
   "cell_type": "code",
   "execution_count": 29,
   "metadata": {},
   "outputs": [
    {
     "data": {
      "text/plain": [
       "<matplotlib.axes._subplots.AxesSubplot at 0x400d522e8>"
      ]
     },
     "execution_count": 29,
     "metadata": {},
     "output_type": "execute_result"
    },
    {
     "data": {
      "image/png": "[encoded data removed]",
      "text/plain": [
       "<matplotlib.figure.Figure at 0x400d577b8>"
      ]
     },
     "metadata": {},
     "output_type": "display_data"
    }
   ],
   "source": [
    "sns.countplot(x='support_type', hue='clicked', data=train)"
   ]
  },
  {
   "cell_type": "markdown",
   "metadata": {},
   "source": [
    "The *website support_type* has 109 instances of which they all have a \"clicked = 0\". it doesn't add to the information about the target class, better discard this feature"
   ]
  },
  {
   "cell_type": "code",
   "execution_count": 30,
   "metadata": {
    "collapsed": true
   },
   "outputs": [],
   "source": [
    "drop_features(data,'support_type')"
   ]
  },
  {
   "cell_type": "code",
   "execution_count": 31,
   "metadata": {},
   "outputs": [
    {
     "data": {
      "text/html": [
       "<div>\n",
       "<style>\n",
       "    .dataframe thead tr:only-child th {\n",
       "        text-align: right;\n",
       "    }\n",
       "\n",
       "    .dataframe thead th {\n",
       "        text-align: left;\n",
       "    }\n",
       "\n",
       "    .dataframe tbody tr th {\n",
       "        vertical-align: top;\n",
       "    }\n",
       "</style>\n",
       "<table border=\"1\" class=\"dataframe\">\n",
       "  <thead>\n",
       "    <tr style=\"text-align: right;\">\n",
       "      <th></th>\n",
       "      <th>bidfloor</th>\n",
       "      <th>device_language</th>\n",
       "      <th>device_model</th>\n",
       "      <th>verticals_0</th>\n",
       "      <th>verticals_1</th>\n",
       "      <th>verticals_2</th>\n",
       "      <th>vertical_3</th>\n",
       "      <th>bid_price</th>\n",
       "      <th>won_price</th>\n",
       "      <th>clicked</th>\n",
       "    </tr>\n",
       "  </thead>\n",
       "  <tbody>\n",
       "    <tr>\n",
       "      <th>0</th>\n",
       "      <td>200000000</td>\n",
       "      <td>fr_FR</td>\n",
       "      <td>iphone</td>\n",
       "      <td>1494</td>\n",
       "      <td>1462</td>\n",
       "      <td>105</td>\n",
       "      <td>937</td>\n",
       "      <td>280000000</td>\n",
       "      <td>116000000</td>\n",
       "      <td>0</td>\n",
       "    </tr>\n",
       "    <tr>\n",
       "      <th>1</th>\n",
       "      <td>1000000</td>\n",
       "      <td>tr_TR</td>\n",
       "      <td>iphone</td>\n",
       "      <td>408</td>\n",
       "      <td>1462</td>\n",
       "      <td>1109</td>\n",
       "      <td>16</td>\n",
       "      <td>280000000</td>\n",
       "      <td>195000000</td>\n",
       "      <td>0</td>\n",
       "    </tr>\n",
       "    <tr>\n",
       "      <th>2</th>\n",
       "      <td>199000000</td>\n",
       "      <td>fr_FR</td>\n",
       "      <td>ipod</td>\n",
       "      <td>937</td>\n",
       "      <td>926</td>\n",
       "      <td>1462</td>\n",
       "      <td>1536</td>\n",
       "      <td>280000000</td>\n",
       "      <td>241000000</td>\n",
       "      <td>0</td>\n",
       "    </tr>\n",
       "    <tr>\n",
       "      <th>3</th>\n",
       "      <td>190000000</td>\n",
       "      <td>fr_FR</td>\n",
       "      <td>iphone</td>\n",
       "      <td>937</td>\n",
       "      <td>1462</td>\n",
       "      <td>1536</td>\n",
       "      <td>1461</td>\n",
       "      <td>280000000</td>\n",
       "      <td>137000000</td>\n",
       "      <td>0</td>\n",
       "    </tr>\n",
       "    <tr>\n",
       "      <th>4</th>\n",
       "      <td>188000000</td>\n",
       "      <td>fr_FR</td>\n",
       "      <td>iphone</td>\n",
       "      <td>61</td>\n",
       "      <td>13</td>\n",
       "      <td>299</td>\n",
       "      <td>0</td>\n",
       "      <td>280000000</td>\n",
       "      <td>188000000</td>\n",
       "      <td>0</td>\n",
       "    </tr>\n",
       "  </tbody>\n",
       "</table>\n",
       "</div>"
      ],
      "text/plain": [
       "    bidfloor device_language device_model  verticals_0  verticals_1  \\\n",
       "0  200000000           fr_FR       iphone         1494         1462   \n",
       "1    1000000           tr_TR       iphone          408         1462   \n",
       "2  199000000           fr_FR         ipod          937          926   \n",
       "3  190000000           fr_FR       iphone          937         1462   \n",
       "4  188000000           fr_FR       iphone           61           13   \n",
       "\n",
       "   verticals_2  vertical_3  bid_price  won_price  clicked  \n",
       "0          105         937  280000000  116000000        0  \n",
       "1         1109          16  280000000  195000000        0  \n",
       "2         1462        1536  280000000  241000000        0  \n",
       "3         1536        1461  280000000  137000000        0  \n",
       "4          299           0  280000000  188000000        0  "
      ]
     },
     "execution_count": 31,
     "metadata": {},
     "output_type": "execute_result"
    }
   ],
   "source": [
    "train.head()"
   ]
  },
  {
   "cell_type": "code",
   "execution_count": 32,
   "metadata": {},
   "outputs": [
    {
     "data": {
      "text/plain": [
       "iphone    707555\n",
       "ipod       54684\n",
       "Name: device_model, dtype: int64"
      ]
     },
     "execution_count": 32,
     "metadata": {},
     "output_type": "execute_result"
    }
   ],
   "source": [
    "train['device_model'].value_counts()"
   ]
  },
  {
   "cell_type": "code",
   "execution_count": 33,
   "metadata": {},
   "outputs": [
    {
     "data": {
      "text/plain": [
       "device_model\n",
       "iphone    35513\n",
       "ipod       2340\n",
       "Name: clicked, dtype: int64"
      ]
     },
     "execution_count": 33,
     "metadata": {},
     "output_type": "execute_result"
    }
   ],
   "source": [
    "train.groupby('device_model')['clicked'].sum()"
   ]
  },
  {
   "cell_type": "code",
   "execution_count": 34,
   "metadata": {},
   "outputs": [
    {
     "data": {
      "text/plain": [
       "<matplotlib.axes._subplots.AxesSubplot at 0x400d8c780>"
      ]
     },
     "execution_count": 34,
     "metadata": {},
     "output_type": "execute_result"
    },
    {
     "data": {
      "image/png": "[encoded data removed]",
      "text/plain": [
       "<matplotlib.figure.Figure at 0x400df6630>"
      ]
     },
     "metadata": {},
     "output_type": "display_data"
    }
   ],
   "source": [
    "sns.countplot(x='device_model', hue='clicked', data=train)"
   ]
  },
  {
   "cell_type": "markdown",
   "metadata": {},
   "source": [
    "*device_model* shows some variation better that *support_type*, we have some information that could be useful for target variable \"clicked == 1\". thuse, we are simply going to map the classes to binary"
   ]
  },
  {
   "cell_type": "code",
   "execution_count": 35,
   "metadata": {
    "collapsed": true
   },
   "outputs": [],
   "source": [
    "data[0]['device_model'] = data[0]['device_model'].map(lambda x: 1 if x=='iphone' else 0)\n",
    "data[1]['device_model'] = data[1]['device_model'].map(lambda x: 1 if x=='iphone' else 0)"
   ]
  },
  {
   "cell_type": "code",
   "execution_count": 36,
   "metadata": {},
   "outputs": [
    {
     "data": {
      "text/html": [
       "<div>\n",
       "<style>\n",
       "    .dataframe thead tr:only-child th {\n",
       "        text-align: right;\n",
       "    }\n",
       "\n",
       "    .dataframe thead th {\n",
       "        text-align: left;\n",
       "    }\n",
       "\n",
       "    .dataframe tbody tr th {\n",
       "        vertical-align: top;\n",
       "    }\n",
       "</style>\n",
       "<table border=\"1\" class=\"dataframe\">\n",
       "  <thead>\n",
       "    <tr style=\"text-align: right;\">\n",
       "      <th></th>\n",
       "      <th>bidfloor</th>\n",
       "      <th>device_language</th>\n",
       "      <th>device_model</th>\n",
       "      <th>verticals_0</th>\n",
       "      <th>verticals_1</th>\n",
       "      <th>verticals_2</th>\n",
       "      <th>vertical_3</th>\n",
       "      <th>bid_price</th>\n",
       "      <th>won_price</th>\n",
       "      <th>clicked</th>\n",
       "    </tr>\n",
       "  </thead>\n",
       "  <tbody>\n",
       "    <tr>\n",
       "      <th>0</th>\n",
       "      <td>200000000</td>\n",
       "      <td>fr_FR</td>\n",
       "      <td>1</td>\n",
       "      <td>1494</td>\n",
       "      <td>1462</td>\n",
       "      <td>105</td>\n",
       "      <td>937</td>\n",
       "      <td>280000000</td>\n",
       "      <td>116000000</td>\n",
       "      <td>0</td>\n",
       "    </tr>\n",
       "    <tr>\n",
       "      <th>1</th>\n",
       "      <td>1000000</td>\n",
       "      <td>tr_TR</td>\n",
       "      <td>1</td>\n",
       "      <td>408</td>\n",
       "      <td>1462</td>\n",
       "      <td>1109</td>\n",
       "      <td>16</td>\n",
       "      <td>280000000</td>\n",
       "      <td>195000000</td>\n",
       "      <td>0</td>\n",
       "    </tr>\n",
       "    <tr>\n",
       "      <th>2</th>\n",
       "      <td>199000000</td>\n",
       "      <td>fr_FR</td>\n",
       "      <td>0</td>\n",
       "      <td>937</td>\n",
       "      <td>926</td>\n",
       "      <td>1462</td>\n",
       "      <td>1536</td>\n",
       "      <td>280000000</td>\n",
       "      <td>241000000</td>\n",
       "      <td>0</td>\n",
       "    </tr>\n",
       "    <tr>\n",
       "      <th>3</th>\n",
       "      <td>190000000</td>\n",
       "      <td>fr_FR</td>\n",
       "      <td>1</td>\n",
       "      <td>937</td>\n",
       "      <td>1462</td>\n",
       "      <td>1536</td>\n",
       "      <td>1461</td>\n",
       "      <td>280000000</td>\n",
       "      <td>137000000</td>\n",
       "      <td>0</td>\n",
       "    </tr>\n",
       "    <tr>\n",
       "      <th>4</th>\n",
       "      <td>188000000</td>\n",
       "      <td>fr_FR</td>\n",
       "      <td>1</td>\n",
       "      <td>61</td>\n",
       "      <td>13</td>\n",
       "      <td>299</td>\n",
       "      <td>0</td>\n",
       "      <td>280000000</td>\n",
       "      <td>188000000</td>\n",
       "      <td>0</td>\n",
       "    </tr>\n",
       "  </tbody>\n",
       "</table>\n",
       "</div>"
      ],
      "text/plain": [
       "    bidfloor device_language  device_model  verticals_0  verticals_1  \\\n",
       "0  200000000           fr_FR             1         1494         1462   \n",
       "1    1000000           tr_TR             1          408         1462   \n",
       "2  199000000           fr_FR             0          937          926   \n",
       "3  190000000           fr_FR             1          937         1462   \n",
       "4  188000000           fr_FR             1           61           13   \n",
       "\n",
       "   verticals_2  vertical_3  bid_price  won_price  clicked  \n",
       "0          105         937  280000000  116000000        0  \n",
       "1         1109          16  280000000  195000000        0  \n",
       "2         1462        1536  280000000  241000000        0  \n",
       "3         1536        1461  280000000  137000000        0  \n",
       "4          299           0  280000000  188000000        0  "
      ]
     },
     "execution_count": 36,
     "metadata": {},
     "output_type": "execute_result"
    }
   ],
   "source": [
    "train.head()"
   ]
  },
  {
   "cell_type": "code",
   "execution_count": 37,
   "metadata": {
    "collapsed": true
   },
   "outputs": [],
   "source": [
    "# language\n",
    "devicelanguage_train = set(train['device_language'].unique())\n",
    "devicelanguage_test  = set(test['device_language'].unique())"
   ]
  },
  {
   "cell_type": "code",
   "execution_count": 38,
   "metadata": {},
   "outputs": [
    {
     "name": "stdout",
     "output_type": "stream",
     "text": [
      "Train has 52 unique languages\n",
      "Test has 53 unique languages\n"
     ]
    }
   ],
   "source": [
    "print('Train has {} unique languages\\nTest has {} unique languages'.format(len(devicelanguage_train), len(devicelanguage_test)))"
   ]
  },
  {
   "cell_type": "code",
   "execution_count": 39,
   "metadata": {},
   "outputs": [
    {
     "name": "stdout",
     "output_type": "stream",
     "text": [
      "there are 49 comon lanaguages and 4 that are in the test but not in the train\n",
      "['gu_GU', 'sh_SH', 'kn_KN', 'bg_BG']\n"
     ]
    }
   ],
   "source": [
    "devicelanguage_train = set(train['device_language'].unique())\n",
    "devicelanguage_test  = set(test['device_language'].unique())\n",
    "language_intersection  = [x for x in devicelanguage_test if x in devicelanguage_train]\n",
    "extra_language = [x for x in devicelanguage_test if x not in devicelanguage_train]\n",
    "print('there are {} comon lanaguages and {} that are in the test but not in the train\\n{}'.format(len(language_intersection),len(extra_language),extra_language))"
   ]
  },
  {
   "cell_type": "code",
   "execution_count": 40,
   "metadata": {},
   "outputs": [
    {
     "data": {
      "text/plain": [
       "fr_FR    95.676159\n",
       "en_EN     2.106295\n",
       "tr_TR     0.880826\n",
       "zh_CN     0.184850\n",
       "it_IT     0.162941\n",
       "nl_NL     0.131192\n",
       "pt_PT     0.122796\n",
       "es_ES     0.119385\n",
       "de_DE     0.117680\n",
       "ru_RU     0.106266\n",
       "ar_AR     0.089080\n",
       "ro_RO     0.054051\n",
       "ja_JA     0.032405\n",
       "pl_PL     0.027288\n",
       "ko_KO     0.025189\n",
       "sv_SV     0.023090\n",
       "th_TH     0.020335\n",
       "no_NO     0.012594\n",
       "zh_TW     0.012332\n",
       "da_DA     0.012201\n",
       "vi_VI     0.011151\n",
       "iw_IW     0.011151\n",
       "co_CO     0.007609\n",
       "hr_HR     0.006822\n",
       "el_EL     0.006822\n",
       "uk_UK     0.006428\n",
       "hy_HY     0.005248\n",
       "bn_BN     0.005117\n",
       "eu_EU     0.003411\n",
       "ta_TA     0.003149\n",
       "sq_SQ     0.002230\n",
       "hu_HU     0.002230\n",
       "ca_CA     0.001706\n",
       "bs_BS     0.001443\n",
       "cs_CS     0.001181\n",
       "km_KM     0.001050\n",
       "fa_FA     0.001050\n",
       "lo_LO     0.000918\n",
       "fi_FI     0.000918\n",
       "ka_KA     0.000656\n",
       "sk_SK     0.000656\n",
       "br_BR     0.000525\n",
       "mn_MN     0.000262\n",
       "ne_NE     0.000262\n",
       "mg_MG     0.000131\n",
       "yi_YI     0.000131\n",
       "pa_PA     0.000131\n",
       "id_ID     0.000131\n",
       "ln_LN     0.000131\n",
       "la_LA     0.000131\n",
       "ht_HT     0.000131\n",
       "ur_UR     0.000131\n",
       "Name: device_language, dtype: float64"
      ]
     },
     "execution_count": 40,
     "metadata": {},
     "output_type": "execute_result"
    }
   ],
   "source": [
    "train['device_language'].value_counts(normalize=True)*100"
   ]
  },
  {
   "cell_type": "code",
   "execution_count": 41,
   "metadata": {},
   "outputs": [
    {
     "data": {
      "text/plain": [
       "fr_FR    95.144030\n",
       "en_EN     2.454158\n",
       "tr_TR     0.901098\n",
       "it_IT     0.207613\n",
       "zh_CN     0.201512\n",
       "nl_NL     0.168058\n",
       "de_DE     0.144837\n",
       "es_ES     0.128307\n",
       "pt_PT     0.126732\n",
       "ar_AR     0.095443\n",
       "ru_RU     0.083635\n",
       "ro_RO     0.048804\n",
       "ja_JA     0.038571\n",
       "th_TH     0.034635\n",
       "ko_KO     0.033257\n",
       "sv_SV     0.030109\n",
       "zh_TW     0.022434\n",
       "pl_PL     0.021647\n",
       "da_DA     0.012988\n",
       "fa_FA     0.011611\n",
       "hu_HU     0.010233\n",
       "no_NO     0.009249\n",
       "el_EL     0.008856\n",
       "vi_VI     0.008856\n",
       "uk_UK     0.008068\n",
       "co_CO     0.007478\n",
       "ta_TA     0.005313\n",
       "hr_HR     0.004920\n",
       "iw_IW     0.003345\n",
       "bn_BN     0.002952\n",
       "cs_CS     0.002558\n",
       "eu_EU     0.002558\n",
       "ca_CA     0.001968\n",
       "sq_SQ     0.001771\n",
       "gu_GU     0.001574\n",
       "hy_HY     0.001378\n",
       "pa_PA     0.001378\n",
       "sk_SK     0.000984\n",
       "mg_MG     0.000787\n",
       "sh_SH     0.000787\n",
       "la_LA     0.000590\n",
       "lo_LO     0.000590\n",
       "fi_FI     0.000590\n",
       "km_KM     0.000590\n",
       "yi_YI     0.000394\n",
       "kn_KN     0.000394\n",
       "ht_HT     0.000394\n",
       "bg_BG     0.000394\n",
       "ln_LN     0.000394\n",
       "ka_KA     0.000394\n",
       "br_BR     0.000394\n",
       "bs_BS     0.000197\n",
       "mn_MN     0.000197\n",
       "Name: device_language, dtype: float64"
      ]
     },
     "execution_count": 41,
     "metadata": {},
     "output_type": "execute_result"
    }
   ],
   "source": [
    "test['device_language'].value_counts(normalize=True)*100"
   ]
  },
  {
   "cell_type": "markdown",
   "metadata": {},
   "source": [
    "device language shows high cardinality, however, when looking at the distribution of classes, we see that ***French***\n",
    "is predominant by **95%**, then ***English*** with **2%**, then the rest with approximately **2%**, and it is observed in both train and test dataset. \n",
    "since we saw that the test dataset has 4 languages that don't exist in train set, one way to solve this is to create three classes: *French, English and Others*"
   ]
  },
  {
   "cell_type": "markdown",
   "metadata": {},
   "source": [
    "#### mapping device_model and device_language"
   ]
  },
  {
   "cell_type": "code",
   "execution_count": 42,
   "metadata": {
    "collapsed": true
   },
   "outputs": [],
   "source": [
    "def language_map(lang):\n",
    "    if lang not in ['fr_FR','en_EN']:\n",
    "        return 'other'\n",
    "    elif lang in ['fr_FR']:\n",
    "        return 'fr'\n",
    "    else:\n",
    "        return 'en'\n",
    "        "
   ]
  },
  {
   "cell_type": "code",
   "execution_count": 43,
   "metadata": {
    "collapsed": true
   },
   "outputs": [],
   "source": [
    "data[0]['device_language'] = data[0]['device_language'].apply(language_map)\n",
    "data[1]['device_language']  = data[1]['device_language'].apply(language_map)"
   ]
  },
  {
   "cell_type": "code",
   "execution_count": 44,
   "metadata": {
    "collapsed": true
   },
   "outputs": [],
   "source": [
    "lang = pd.get_dummies(data[0]['device_language'], prefix='lang')\n",
    "data[0]= pd.concat([data[0],lang],axis=1)\n",
    "lang = pd.get_dummies(data[1]['device_language'], prefix='lang')\n",
    "data[1]= pd.concat([data[1],lang],axis=1)"
   ]
  },
  {
   "cell_type": "code",
   "execution_count": 45,
   "metadata": {
    "collapsed": true
   },
   "outputs": [],
   "source": [
    "train, test = data[0], data[1]"
   ]
  },
  {
   "cell_type": "code",
   "execution_count": 46,
   "metadata": {
    "collapsed": true
   },
   "outputs": [],
   "source": [
    "drop_features(data,['device_language'])"
   ]
  },
  {
   "cell_type": "code",
   "execution_count": 47,
   "metadata": {},
   "outputs": [
    {
     "data": {
      "text/html": [
       "<div>\n",
       "<style>\n",
       "    .dataframe thead tr:only-child th {\n",
       "        text-align: right;\n",
       "    }\n",
       "\n",
       "    .dataframe thead th {\n",
       "        text-align: left;\n",
       "    }\n",
       "\n",
       "    .dataframe tbody tr th {\n",
       "        vertical-align: top;\n",
       "    }\n",
       "</style>\n",
       "<table border=\"1\" class=\"dataframe\">\n",
       "  <thead>\n",
       "    <tr style=\"text-align: right;\">\n",
       "      <th></th>\n",
       "      <th>bidfloor</th>\n",
       "      <th>device_model</th>\n",
       "      <th>verticals_0</th>\n",
       "      <th>verticals_1</th>\n",
       "      <th>verticals_2</th>\n",
       "      <th>vertical_3</th>\n",
       "      <th>bid_price</th>\n",
       "      <th>won_price</th>\n",
       "      <th>clicked</th>\n",
       "      <th>lang_en</th>\n",
       "      <th>lang_fr</th>\n",
       "      <th>lang_other</th>\n",
       "    </tr>\n",
       "  </thead>\n",
       "  <tbody>\n",
       "    <tr>\n",
       "      <th>0</th>\n",
       "      <td>200000000</td>\n",
       "      <td>1</td>\n",
       "      <td>1494</td>\n",
       "      <td>1462</td>\n",
       "      <td>105</td>\n",
       "      <td>937</td>\n",
       "      <td>280000000</td>\n",
       "      <td>116000000</td>\n",
       "      <td>0</td>\n",
       "      <td>0</td>\n",
       "      <td>1</td>\n",
       "      <td>0</td>\n",
       "    </tr>\n",
       "    <tr>\n",
       "      <th>1</th>\n",
       "      <td>1000000</td>\n",
       "      <td>1</td>\n",
       "      <td>408</td>\n",
       "      <td>1462</td>\n",
       "      <td>1109</td>\n",
       "      <td>16</td>\n",
       "      <td>280000000</td>\n",
       "      <td>195000000</td>\n",
       "      <td>0</td>\n",
       "      <td>0</td>\n",
       "      <td>0</td>\n",
       "      <td>1</td>\n",
       "    </tr>\n",
       "    <tr>\n",
       "      <th>2</th>\n",
       "      <td>199000000</td>\n",
       "      <td>0</td>\n",
       "      <td>937</td>\n",
       "      <td>926</td>\n",
       "      <td>1462</td>\n",
       "      <td>1536</td>\n",
       "      <td>280000000</td>\n",
       "      <td>241000000</td>\n",
       "      <td>0</td>\n",
       "      <td>0</td>\n",
       "      <td>1</td>\n",
       "      <td>0</td>\n",
       "    </tr>\n",
       "    <tr>\n",
       "      <th>3</th>\n",
       "      <td>190000000</td>\n",
       "      <td>1</td>\n",
       "      <td>937</td>\n",
       "      <td>1462</td>\n",
       "      <td>1536</td>\n",
       "      <td>1461</td>\n",
       "      <td>280000000</td>\n",
       "      <td>137000000</td>\n",
       "      <td>0</td>\n",
       "      <td>0</td>\n",
       "      <td>1</td>\n",
       "      <td>0</td>\n",
       "    </tr>\n",
       "    <tr>\n",
       "      <th>4</th>\n",
       "      <td>188000000</td>\n",
       "      <td>1</td>\n",
       "      <td>61</td>\n",
       "      <td>13</td>\n",
       "      <td>299</td>\n",
       "      <td>0</td>\n",
       "      <td>280000000</td>\n",
       "      <td>188000000</td>\n",
       "      <td>0</td>\n",
       "      <td>0</td>\n",
       "      <td>1</td>\n",
       "      <td>0</td>\n",
       "    </tr>\n",
       "  </tbody>\n",
       "</table>\n",
       "</div>"
      ],
      "text/plain": [
       "    bidfloor  device_model  verticals_0  verticals_1  verticals_2  vertical_3  \\\n",
       "0  200000000             1         1494         1462          105         937   \n",
       "1    1000000             1          408         1462         1109          16   \n",
       "2  199000000             0          937          926         1462        1536   \n",
       "3  190000000             1          937         1462         1536        1461   \n",
       "4  188000000             1           61           13          299           0   \n",
       "\n",
       "   bid_price  won_price  clicked  lang_en  lang_fr  lang_other  \n",
       "0  280000000  116000000        0        0        1           0  \n",
       "1  280000000  195000000        0        0        0           1  \n",
       "2  280000000  241000000        0        0        1           0  \n",
       "3  280000000  137000000        0        0        1           0  \n",
       "4  280000000  188000000        0        0        1           0  "
      ]
     },
     "execution_count": 47,
     "metadata": {},
     "output_type": "execute_result"
    }
   ],
   "source": [
    "train.head()"
   ]
  },
  {
   "cell_type": "markdown",
   "metadata": {},
   "source": [
    "#### bidfloor, bid_price, won_price"
   ]
  },
  {
   "cell_type": "code",
   "execution_count": 48,
   "metadata": {},
   "outputs": [
    {
     "name": "stdout",
     "output_type": "stream",
     "text": [
      "---------- train ----------\n",
      "The type of bid_price is int64\n",
      "The new type of bid_price is float64\n",
      "----------------------------------------\n",
      "The type of won_price is int64\n",
      "The new type of won_price is float64\n",
      "----------------------------------------\n",
      "The type of bidfloor is int64\n",
      "The new type of bidfloor is float64\n",
      "----------------------------------------\n",
      "---------- test ----------\n",
      "The type of bid_price is int64\n",
      "The new type of bid_price is float64\n",
      "----------------------------------------\n",
      "The type of won_price is int64\n",
      "The new type of won_price is float64\n",
      "----------------------------------------\n",
      "The type of bidfloor is int64\n",
      "The new type of bidfloor is float64\n",
      "----------------------------------------\n"
     ]
    }
   ],
   "source": [
    "# Make sure the all columns that contain monetary value are of float type\n",
    "name = ['train','test']\n",
    "for d,n in zip(data,name):\n",
    "    print(10*'-',n,10*'-')\n",
    "    for col in ['bid_price','won_price','bidfloor']:\n",
    "        print('The type of {} is {}'.format(col,d[col].dtype))\n",
    "        d[col] = d[col].astype('float64')\n",
    "        print('The new type of {} is {}'.format(col,d[col].dtype))\n",
    "        print('-'*40)"
   ]
  },
  {
   "cell_type": "code",
   "execution_count": 49,
   "metadata": {},
   "outputs": [
    {
     "name": "stdout",
     "output_type": "stream",
     "text": [
      "bidfloor\n",
      "0\n",
      "0\n",
      "---------------\n",
      "bid_price\n",
      "0\n",
      "0\n",
      "---------------\n",
      "won_price\n",
      "290\n",
      "58\n",
      "---------------\n"
     ]
    }
   ],
   "source": [
    "# check if prices have negative values\n",
    "for col in ['bidfloor','bid_price','won_price']:\n",
    "    print(col)\n",
    "    print(sum(data[0][col]<0))\n",
    "    print(sum(data[1][col]<0))\n",
    "    print('-'*15)"
   ]
  },
  {
   "cell_type": "code",
   "execution_count": 50,
   "metadata": {
    "collapsed": true
   },
   "outputs": [],
   "source": [
    "# replacing the negative values with average price\n",
    "for col in ['won_price']:\n",
    "    data[0][col] = data[0][col].apply(lambda x: data[0][col].mean() if x<0 else x)\n",
    "    data[1][col] = data[1][col].apply(lambda x: data[0][col].mean() if x<0 else x)\n",
    "    "
   ]
  },
  {
   "cell_type": "code",
   "execution_count": 51,
   "metadata": {},
   "outputs": [
    {
     "name": "stdout",
     "output_type": "stream",
     "text": [
      "bidfloor\n",
      "0\n",
      "0\n",
      "---------------\n",
      "bid_price\n",
      "0\n",
      "0\n",
      "---------------\n",
      "won_price\n",
      "0\n",
      "0\n",
      "---------------\n"
     ]
    }
   ],
   "source": [
    "for col in ['bidfloor','bid_price','won_price']:\n",
    "    print(col)\n",
    "    print(sum(data[0][col]<0))\n",
    "    print(sum(data[1][col]<0))\n",
    "    print('-'*15)"
   ]
  },
  {
   "cell_type": "code",
   "execution_count": 52,
   "metadata": {},
   "outputs": [
    {
     "data": {
      "text/html": [
       "<div>\n",
       "<style>\n",
       "    .dataframe thead tr:only-child th {\n",
       "        text-align: right;\n",
       "    }\n",
       "\n",
       "    .dataframe thead th {\n",
       "        text-align: left;\n",
       "    }\n",
       "\n",
       "    .dataframe tbody tr th {\n",
       "        vertical-align: top;\n",
       "    }\n",
       "</style>\n",
       "<table border=\"1\" class=\"dataframe\">\n",
       "  <thead>\n",
       "    <tr style=\"text-align: right;\">\n",
       "      <th></th>\n",
       "      <th>bidfloor</th>\n",
       "      <th>device_model</th>\n",
       "      <th>verticals_0</th>\n",
       "      <th>verticals_1</th>\n",
       "      <th>verticals_2</th>\n",
       "      <th>vertical_3</th>\n",
       "      <th>bid_price</th>\n",
       "      <th>won_price</th>\n",
       "      <th>clicked</th>\n",
       "      <th>lang_en</th>\n",
       "      <th>lang_fr</th>\n",
       "      <th>lang_other</th>\n",
       "    </tr>\n",
       "  </thead>\n",
       "  <tbody>\n",
       "    <tr>\n",
       "      <th>0</th>\n",
       "      <td>200000000.0</td>\n",
       "      <td>1</td>\n",
       "      <td>1494</td>\n",
       "      <td>1462</td>\n",
       "      <td>105</td>\n",
       "      <td>937</td>\n",
       "      <td>280000000.0</td>\n",
       "      <td>116000000.0</td>\n",
       "      <td>0</td>\n",
       "      <td>0</td>\n",
       "      <td>1</td>\n",
       "      <td>0</td>\n",
       "    </tr>\n",
       "    <tr>\n",
       "      <th>1</th>\n",
       "      <td>1000000.0</td>\n",
       "      <td>1</td>\n",
       "      <td>408</td>\n",
       "      <td>1462</td>\n",
       "      <td>1109</td>\n",
       "      <td>16</td>\n",
       "      <td>280000000.0</td>\n",
       "      <td>195000000.0</td>\n",
       "      <td>0</td>\n",
       "      <td>0</td>\n",
       "      <td>0</td>\n",
       "      <td>1</td>\n",
       "    </tr>\n",
       "    <tr>\n",
       "      <th>2</th>\n",
       "      <td>199000000.0</td>\n",
       "      <td>0</td>\n",
       "      <td>937</td>\n",
       "      <td>926</td>\n",
       "      <td>1462</td>\n",
       "      <td>1536</td>\n",
       "      <td>280000000.0</td>\n",
       "      <td>241000000.0</td>\n",
       "      <td>0</td>\n",
       "      <td>0</td>\n",
       "      <td>1</td>\n",
       "      <td>0</td>\n",
       "    </tr>\n",
       "    <tr>\n",
       "      <th>3</th>\n",
       "      <td>190000000.0</td>\n",
       "      <td>1</td>\n",
       "      <td>937</td>\n",
       "      <td>1462</td>\n",
       "      <td>1536</td>\n",
       "      <td>1461</td>\n",
       "      <td>280000000.0</td>\n",
       "      <td>137000000.0</td>\n",
       "      <td>0</td>\n",
       "      <td>0</td>\n",
       "      <td>1</td>\n",
       "      <td>0</td>\n",
       "    </tr>\n",
       "    <tr>\n",
       "      <th>4</th>\n",
       "      <td>188000000.0</td>\n",
       "      <td>1</td>\n",
       "      <td>61</td>\n",
       "      <td>13</td>\n",
       "      <td>299</td>\n",
       "      <td>0</td>\n",
       "      <td>280000000.0</td>\n",
       "      <td>188000000.0</td>\n",
       "      <td>0</td>\n",
       "      <td>0</td>\n",
       "      <td>1</td>\n",
       "      <td>0</td>\n",
       "    </tr>\n",
       "  </tbody>\n",
       "</table>\n",
       "</div>"
      ],
      "text/plain": [
       "      bidfloor  device_model  verticals_0  verticals_1  verticals_2  \\\n",
       "0  200000000.0             1         1494         1462          105   \n",
       "1    1000000.0             1          408         1462         1109   \n",
       "2  199000000.0             0          937          926         1462   \n",
       "3  190000000.0             1          937         1462         1536   \n",
       "4  188000000.0             1           61           13          299   \n",
       "\n",
       "   vertical_3    bid_price    won_price  clicked  lang_en  lang_fr  lang_other  \n",
       "0         937  280000000.0  116000000.0        0        0        1           0  \n",
       "1          16  280000000.0  195000000.0        0        0        0           1  \n",
       "2        1536  280000000.0  241000000.0        0        0        1           0  \n",
       "3        1461  280000000.0  137000000.0        0        0        1           0  \n",
       "4           0  280000000.0  188000000.0        0        0        1           0  "
      ]
     },
     "execution_count": 52,
     "metadata": {},
     "output_type": "execute_result"
    }
   ],
   "source": [
    "train.head()"
   ]
  },
  {
   "cell_type": "markdown",
   "metadata": {},
   "source": [
    "#### verticals_0, verticals_1, verticals_2, vertical_3"
   ]
  },
  {
   "cell_type": "code",
   "execution_count": 53,
   "metadata": {
    "collapsed": true
   },
   "outputs": [],
   "source": [
    "train_v = train[['verticals_0','verticals_1','verticals_2','vertical_3']]"
   ]
  },
  {
   "cell_type": "code",
   "execution_count": 54,
   "metadata": {
    "collapsed": true
   },
   "outputs": [],
   "source": [
    "verticals = pd.read_csv('data/verticals.csv')"
   ]
  },
  {
   "cell_type": "code",
   "execution_count": 55,
   "metadata": {},
   "outputs": [
    {
     "data": {
      "text/html": [
       "<div>\n",
       "<style>\n",
       "    .dataframe thead tr:only-child th {\n",
       "        text-align: right;\n",
       "    }\n",
       "\n",
       "    .dataframe thead th {\n",
       "        text-align: left;\n",
       "    }\n",
       "\n",
       "    .dataframe tbody tr th {\n",
       "        vertical-align: top;\n",
       "    }\n",
       "</style>\n",
       "<table border=\"1\" class=\"dataframe\">\n",
       "  <thead>\n",
       "    <tr style=\"text-align: right;\">\n",
       "      <th></th>\n",
       "      <th>Category</th>\n",
       "      <th>Criterion ID</th>\n",
       "      <th>Parent ID</th>\n",
       "    </tr>\n",
       "  </thead>\n",
       "  <tbody>\n",
       "    <tr>\n",
       "      <th>0</th>\n",
       "      <td>Arts &amp; Entertainment</td>\n",
       "      <td>3</td>\n",
       "      <td>0</td>\n",
       "    </tr>\n",
       "    <tr>\n",
       "      <th>1</th>\n",
       "      <td>Celebrities &amp; Entertainment News</td>\n",
       "      <td>184</td>\n",
       "      <td>3</td>\n",
       "    </tr>\n",
       "    <tr>\n",
       "      <th>2</th>\n",
       "      <td>Comics &amp; Animation</td>\n",
       "      <td>316</td>\n",
       "      <td>3</td>\n",
       "    </tr>\n",
       "    <tr>\n",
       "      <th>3</th>\n",
       "      <td>Anime &amp; Manga</td>\n",
       "      <td>317</td>\n",
       "      <td>316</td>\n",
       "    </tr>\n",
       "    <tr>\n",
       "      <th>4</th>\n",
       "      <td>Cartoons</td>\n",
       "      <td>319</td>\n",
       "      <td>316</td>\n",
       "    </tr>\n",
       "  </tbody>\n",
       "</table>\n",
       "</div>"
      ],
      "text/plain": [
       "                           Category  Criterion ID  Parent ID\n",
       "0              Arts & Entertainment             3          0\n",
       "1  Celebrities & Entertainment News           184          3\n",
       "2                Comics & Animation           316          3\n",
       "3                     Anime & Manga           317        316\n",
       "4                          Cartoons           319        316"
      ]
     },
     "execution_count": 55,
     "metadata": {},
     "output_type": "execute_result"
    }
   ],
   "source": [
    "verticals.head()"
   ]
  },
  {
   "cell_type": "code",
   "execution_count": 56,
   "metadata": {},
   "outputs": [
    {
     "name": "stdout",
     "output_type": "stream",
     "text": [
      "Calculating cardinality for train\n",
      "\n",
      "cardinality of verticals_0 is 333\n",
      "cardinality of verticals_1 is 283\n",
      "cardinality of verticals_2 is 248\n",
      "cardinality of vertical_3 is 183\n"
     ]
    }
   ],
   "source": [
    "cardinality(['train',train_v],'verticals_0','verticals_1','verticals_2','vertical_3')"
   ]
  },
  {
   "cell_type": "code",
   "execution_count": 57,
   "metadata": {},
   "outputs": [
    {
     "name": "stdout",
     "output_type": "stream",
     "text": [
      "Calculating cardinality for verticals\n",
      "\n",
      "cardinality of Criterion ID is 2221\n",
      "cardinality of Parent ID is 572\n"
     ]
    }
   ],
   "source": [
    "cardinality(['verticals',verticals],'Criterion ID','Parent ID')"
   ]
  },
  {
   "cell_type": "markdown",
   "metadata": {},
   "source": [
    "First we will make a transformation on every vertical using supervised ratio"
   ]
  },
  {
   "cell_type": "code",
   "execution_count": 58,
   "metadata": {
    "collapsed": true
   },
   "outputs": [],
   "source": [
    "v0 = pd.DataFrame(train_v['verticals_0'].value_counts(normalize=True)).reset_index()\n",
    "\n",
    "v0_dic = {}\n",
    "for row in v0.itertuples():\n",
    "    v0_dic[row[1]] = row[2]\n"
   ]
  },
  {
   "cell_type": "code",
   "execution_count": 59,
   "metadata": {},
   "outputs": [
    {
     "data": {
      "text/html": [
       "<div>\n",
       "<style>\n",
       "    .dataframe thead tr:only-child th {\n",
       "        text-align: right;\n",
       "    }\n",
       "\n",
       "    .dataframe thead th {\n",
       "        text-align: left;\n",
       "    }\n",
       "\n",
       "    .dataframe tbody tr th {\n",
       "        vertical-align: top;\n",
       "    }\n",
       "</style>\n",
       "<table border=\"1\" class=\"dataframe\">\n",
       "  <thead>\n",
       "    <tr style=\"text-align: right;\">\n",
       "      <th></th>\n",
       "      <th>index</th>\n",
       "      <th>verticals_0</th>\n",
       "    </tr>\n",
       "  </thead>\n",
       "  <tbody>\n",
       "    <tr>\n",
       "      <th>0</th>\n",
       "      <td>926</td>\n",
       "      <td>0.183504</td>\n",
       "    </tr>\n",
       "    <tr>\n",
       "      <th>1</th>\n",
       "      <td>937</td>\n",
       "      <td>0.175804</td>\n",
       "    </tr>\n",
       "    <tr>\n",
       "      <th>2</th>\n",
       "      <td>1494</td>\n",
       "      <td>0.118001</td>\n",
       "    </tr>\n",
       "    <tr>\n",
       "      <th>3</th>\n",
       "      <td>220</td>\n",
       "      <td>0.079213</td>\n",
       "    </tr>\n",
       "    <tr>\n",
       "      <th>4</th>\n",
       "      <td>61</td>\n",
       "      <td>0.074630</td>\n",
       "    </tr>\n",
       "  </tbody>\n",
       "</table>\n",
       "</div>"
      ],
      "text/plain": [
       "   index  verticals_0\n",
       "0    926     0.183504\n",
       "1    937     0.175804\n",
       "2   1494     0.118001\n",
       "3    220     0.079213\n",
       "4     61     0.074630"
      ]
     },
     "execution_count": 59,
     "metadata": {},
     "output_type": "execute_result"
    }
   ],
   "source": [
    "v0.head()"
   ]
  },
  {
   "cell_type": "code",
   "execution_count": 60,
   "metadata": {
    "collapsed": true
   },
   "outputs": [],
   "source": [
    "def vert_trans(x):\n",
    "    return v0_dic[x]"
   ]
  },
  {
   "cell_type": "code",
   "execution_count": 61,
   "metadata": {},
   "outputs": [
    {
     "name": "stderr",
     "output_type": "stream",
     "text": [
      "f:\\Users\\Tahar\\Anacondanew\\envs\\ztdl\\lib\\site-packages\\ipykernel_launcher.py:1: SettingWithCopyWarning: \n",
      "A value is trying to be set on a copy of a slice from a DataFrame.\n",
      "Try using .loc[row_indexer,col_indexer] = value instead\n",
      "\n",
      "See the caveats in the documentation: http://pandas.pydata.org/pandas-docs/stable/indexing.html#indexing-view-versus-copy\n",
      "  \"\"\"Entry point for launching an IPython kernel.\n"
     ]
    }
   ],
   "source": [
    "train_v['sr_v0'] = train_v['verticals_0'].apply(vert_trans)"
   ]
  },
  {
   "cell_type": "code",
   "execution_count": 62,
   "metadata": {},
   "outputs": [
    {
     "data": {
      "text/html": [
       "<div>\n",
       "<style>\n",
       "    .dataframe thead tr:only-child th {\n",
       "        text-align: right;\n",
       "    }\n",
       "\n",
       "    .dataframe thead th {\n",
       "        text-align: left;\n",
       "    }\n",
       "\n",
       "    .dataframe tbody tr th {\n",
       "        vertical-align: top;\n",
       "    }\n",
       "</style>\n",
       "<table border=\"1\" class=\"dataframe\">\n",
       "  <thead>\n",
       "    <tr style=\"text-align: right;\">\n",
       "      <th></th>\n",
       "      <th>verticals_0</th>\n",
       "      <th>verticals_1</th>\n",
       "      <th>verticals_2</th>\n",
       "      <th>vertical_3</th>\n",
       "      <th>sr_v0</th>\n",
       "    </tr>\n",
       "  </thead>\n",
       "  <tbody>\n",
       "    <tr>\n",
       "      <th>0</th>\n",
       "      <td>1494</td>\n",
       "      <td>1462</td>\n",
       "      <td>105</td>\n",
       "      <td>937</td>\n",
       "      <td>0.118001</td>\n",
       "    </tr>\n",
       "    <tr>\n",
       "      <th>1</th>\n",
       "      <td>408</td>\n",
       "      <td>1462</td>\n",
       "      <td>1109</td>\n",
       "      <td>16</td>\n",
       "      <td>0.003862</td>\n",
       "    </tr>\n",
       "    <tr>\n",
       "      <th>2</th>\n",
       "      <td>937</td>\n",
       "      <td>926</td>\n",
       "      <td>1462</td>\n",
       "      <td>1536</td>\n",
       "      <td>0.175804</td>\n",
       "    </tr>\n",
       "    <tr>\n",
       "      <th>3</th>\n",
       "      <td>937</td>\n",
       "      <td>1462</td>\n",
       "      <td>1536</td>\n",
       "      <td>1461</td>\n",
       "      <td>0.175804</td>\n",
       "    </tr>\n",
       "    <tr>\n",
       "      <th>4</th>\n",
       "      <td>61</td>\n",
       "      <td>13</td>\n",
       "      <td>299</td>\n",
       "      <td>0</td>\n",
       "      <td>0.074630</td>\n",
       "    </tr>\n",
       "  </tbody>\n",
       "</table>\n",
       "</div>"
      ],
      "text/plain": [
       "   verticals_0  verticals_1  verticals_2  vertical_3     sr_v0\n",
       "0         1494         1462          105         937  0.118001\n",
       "1          408         1462         1109          16  0.003862\n",
       "2          937          926         1462        1536  0.175804\n",
       "3          937         1462         1536        1461  0.175804\n",
       "4           61           13          299           0  0.074630"
      ]
     },
     "execution_count": 62,
     "metadata": {},
     "output_type": "execute_result"
    }
   ],
   "source": [
    "train_v.head()"
   ]
  },
  {
   "cell_type": "code",
   "execution_count": 63,
   "metadata": {},
   "outputs": [
    {
     "data": {
      "text/plain": [
       "<matplotlib.collections.PathCollection at 0x4028fbcc0>"
      ]
     },
     "execution_count": 63,
     "metadata": {},
     "output_type": "execute_result"
    },
    {
     "data": {
      "image/png": "[encoded data removed]",
      "text/plain": [
       "<matplotlib.figure.Figure at 0x400e149e8>"
      ]
     },
     "metadata": {},
     "output_type": "display_data"
    }
   ],
   "source": [
    "plt.scatter(range(len(train)),(train_v['sr_v0']))"
   ]
  },
  {
   "cell_type": "markdown",
   "metadata": {},
   "source": [
    "Next, we use a log transformation"
   ]
  },
  {
   "cell_type": "code",
   "execution_count": 64,
   "metadata": {},
   "outputs": [
    {
     "data": {
      "text/plain": [
       "<matplotlib.collections.PathCollection at 0x41ef0dc18>"
      ]
     },
     "execution_count": 64,
     "metadata": {},
     "output_type": "execute_result"
    },
    {
     "data": {
      "image/png": "[encoded data removed]",
      "text/plain": [
       "<matplotlib.figure.Figure at 0x400e6da90>"
      ]
     },
     "metadata": {},
     "output_type": "display_data"
    }
   ],
   "source": [
    "plt.scatter(range(len(train)),(train_v['sr_v0']-train_v['sr_v0'].mean()).apply(lambda x: log(x+1)))"
   ]
  },
  {
   "cell_type": "code",
   "execution_count": 65,
   "metadata": {},
   "outputs": [
    {
     "data": {
      "text/plain": [
       "<matplotlib.axes._subplots.AxesSubplot at 0x411511f98>"
      ]
     },
     "execution_count": 65,
     "metadata": {},
     "output_type": "execute_result"
    },
    {
     "data": {
      "image/png": "[encoded data removed]",
      "text/plain": [
       "<matplotlib.figure.Figure at 0x41eef5668>"
      ]
     },
     "metadata": {},
     "output_type": "display_data"
    }
   ],
   "source": [
    "sns.boxplot(x=train['clicked'],y=(train_v['sr_v0']-train_v['sr_v0'].mean()).apply(lambda x: log((x+1))))"
   ]
  },
  {
   "cell_type": "code",
   "execution_count": 66,
   "metadata": {
    "collapsed": true
   },
   "outputs": [],
   "source": [
    "def vert_trans(data, *args):\n",
    "    for col in args:\n",
    "        print(col)\n",
    "        v_train = {}\n",
    "        v_test = {}\n",
    "        ver_dics = [v_train,v_test]\n",
    "        for d,v in zip(data, ver_dics):\n",
    "            vertical = pd.DataFrame(d[col].value_counts(normalize=True)).reset_index()\n",
    "            vertical['log_v'] = vertical[col].apply(lambda x: log((x-vertical[col].mean())+1))\n",
    "            for row in vertical.itertuples():\n",
    "                v[row[1]] = row[3]\n",
    "            d['logsr'+'_'+col[-1]] =  d[col].apply(lambda x: v[x])\n",
    "        \n"
   ]
  },
  {
   "cell_type": "code",
   "execution_count": 67,
   "metadata": {},
   "outputs": [
    {
     "name": "stdout",
     "output_type": "stream",
     "text": [
      "verticals_0\n",
      "verticals_1\n",
      "verticals_2\n",
      "vertical_3\n"
     ]
    }
   ],
   "source": [
    "vert_trans(data,'verticals_0','verticals_1','verticals_2','vertical_3')"
   ]
  },
  {
   "cell_type": "code",
   "execution_count": 68,
   "metadata": {},
   "outputs": [
    {
     "data": {
      "text/plain": [
       "<matplotlib.axes._subplots.AxesSubplot at 0x400e30400>"
      ]
     },
     "execution_count": 68,
     "metadata": {},
     "output_type": "execute_result"
    },
    {
     "data": {
      "image/png": "[encoded data removed]",
      "text/plain": [
       "<matplotlib.figure.Figure at 0x402546278>"
      ]
     },
     "metadata": {},
     "output_type": "display_data"
    }
   ],
   "source": [
    "sns.boxplot(x=train['clicked'],y=data[0][['logsr_0','logsr_1','logsr_2','logsr_3']].mean(axis=1))"
   ]
  },
  {
   "cell_type": "code",
   "execution_count": 69,
   "metadata": {
    "collapsed": true
   },
   "outputs": [],
   "source": [
    "for d in data:\n",
    "    d['logsr_mean'] = d[['logsr_0','logsr_1','logsr_2','logsr_3']].mean(axis=1)"
   ]
  },
  {
   "cell_type": "code",
   "execution_count": 70,
   "metadata": {
    "collapsed": true
   },
   "outputs": [],
   "source": [
    "train, test = data[0], data[1]"
   ]
  },
  {
   "cell_type": "code",
   "execution_count": 71,
   "metadata": {
    "collapsed": true
   },
   "outputs": [],
   "source": [
    "drop_features(data,['verticals_0','verticals_1','verticals_2','vertical_3'])"
   ]
  },
  {
   "cell_type": "code",
   "execution_count": 72,
   "metadata": {},
   "outputs": [
    {
     "data": {
      "text/html": [
       "<div>\n",
       "<style>\n",
       "    .dataframe thead tr:only-child th {\n",
       "        text-align: right;\n",
       "    }\n",
       "\n",
       "    .dataframe thead th {\n",
       "        text-align: left;\n",
       "    }\n",
       "\n",
       "    .dataframe tbody tr th {\n",
       "        vertical-align: top;\n",
       "    }\n",
       "</style>\n",
       "<table border=\"1\" class=\"dataframe\">\n",
       "  <thead>\n",
       "    <tr style=\"text-align: right;\">\n",
       "      <th></th>\n",
       "      <th>bidfloor</th>\n",
       "      <th>device_model</th>\n",
       "      <th>bid_price</th>\n",
       "      <th>won_price</th>\n",
       "      <th>clicked</th>\n",
       "      <th>lang_en</th>\n",
       "      <th>lang_fr</th>\n",
       "      <th>lang_other</th>\n",
       "      <th>logsr_0</th>\n",
       "      <th>logsr_1</th>\n",
       "      <th>logsr_2</th>\n",
       "      <th>logsr_3</th>\n",
       "      <th>logsr_mean</th>\n",
       "    </tr>\n",
       "  </thead>\n",
       "  <tbody>\n",
       "    <tr>\n",
       "      <th>0</th>\n",
       "      <td>200000000.0</td>\n",
       "      <td>1</td>\n",
       "      <td>280000000.0</td>\n",
       "      <td>116000000.0</td>\n",
       "      <td>0</td>\n",
       "      <td>0</td>\n",
       "      <td>1</td>\n",
       "      <td>0</td>\n",
       "      <td>0.108853</td>\n",
       "      <td>0.462891</td>\n",
       "      <td>0.158467</td>\n",
       "      <td>0.102446</td>\n",
       "      <td>0.208164</td>\n",
       "    </tr>\n",
       "    <tr>\n",
       "      <th>1</th>\n",
       "      <td>1000000.0</td>\n",
       "      <td>1</td>\n",
       "      <td>280000000.0</td>\n",
       "      <td>195000000.0</td>\n",
       "      <td>0</td>\n",
       "      <td>0</td>\n",
       "      <td>0</td>\n",
       "      <td>1</td>\n",
       "      <td>0.000859</td>\n",
       "      <td>0.462891</td>\n",
       "      <td>0.053363</td>\n",
       "      <td>-0.002467</td>\n",
       "      <td>0.128661</td>\n",
       "    </tr>\n",
       "    <tr>\n",
       "      <th>2</th>\n",
       "      <td>199000000.0</td>\n",
       "      <td>0</td>\n",
       "      <td>280000000.0</td>\n",
       "      <td>241000000.0</td>\n",
       "      <td>0</td>\n",
       "      <td>0</td>\n",
       "      <td>1</td>\n",
       "      <td>0</td>\n",
       "      <td>0.159395</td>\n",
       "      <td>0.052077</td>\n",
       "      <td>0.108565</td>\n",
       "      <td>0.034875</td>\n",
       "      <td>0.088728</td>\n",
       "    </tr>\n",
       "    <tr>\n",
       "      <th>3</th>\n",
       "      <td>190000000.0</td>\n",
       "      <td>1</td>\n",
       "      <td>280000000.0</td>\n",
       "      <td>137000000.0</td>\n",
       "      <td>0</td>\n",
       "      <td>0</td>\n",
       "      <td>1</td>\n",
       "      <td>0</td>\n",
       "      <td>0.159395</td>\n",
       "      <td>0.462891</td>\n",
       "      <td>0.183591</td>\n",
       "      <td>0.177750</td>\n",
       "      <td>0.245907</td>\n",
       "    </tr>\n",
       "    <tr>\n",
       "      <th>4</th>\n",
       "      <td>188000000.0</td>\n",
       "      <td>1</td>\n",
       "      <td>280000000.0</td>\n",
       "      <td>188000000.0</td>\n",
       "      <td>0</td>\n",
       "      <td>0</td>\n",
       "      <td>1</td>\n",
       "      <td>0</td>\n",
       "      <td>0.069178</td>\n",
       "      <td>0.072751</td>\n",
       "      <td>0.069696</td>\n",
       "      <td>0.257685</td>\n",
       "      <td>0.117328</td>\n",
       "    </tr>\n",
       "  </tbody>\n",
       "</table>\n",
       "</div>"
      ],
      "text/plain": [
       "      bidfloor  device_model    bid_price    won_price  clicked  lang_en  \\\n",
       "0  200000000.0             1  280000000.0  116000000.0        0        0   \n",
       "1    1000000.0             1  280000000.0  195000000.0        0        0   \n",
       "2  199000000.0             0  280000000.0  241000000.0        0        0   \n",
       "3  190000000.0             1  280000000.0  137000000.0        0        0   \n",
       "4  188000000.0             1  280000000.0  188000000.0        0        0   \n",
       "\n",
       "   lang_fr  lang_other   logsr_0   logsr_1   logsr_2   logsr_3  logsr_mean  \n",
       "0        1           0  0.108853  0.462891  0.158467  0.102446    0.208164  \n",
       "1        0           1  0.000859  0.462891  0.053363 -0.002467    0.128661  \n",
       "2        1           0  0.159395  0.052077  0.108565  0.034875    0.088728  \n",
       "3        1           0  0.159395  0.462891  0.183591  0.177750    0.245907  \n",
       "4        1           0  0.069178  0.072751  0.069696  0.257685    0.117328  "
      ]
     },
     "execution_count": 72,
     "metadata": {},
     "output_type": "execute_result"
    }
   ],
   "source": [
    "train.head()"
   ]
  },
  {
   "cell_type": "markdown",
   "metadata": {},
   "source": [
    "### Predictive model"
   ]
  },
  {
   "cell_type": "code",
   "execution_count": 73,
   "metadata": {
    "collapsed": true
   },
   "outputs": [],
   "source": [
    "price_train = data[0][['bidfloor','bid_price','won_price']]\n",
    "catego_train = data[0][['device_model','lang_en','lang_fr','lang_other']]\n",
    "vert_train = data[0][['logsr_0','logsr_1','logsr_2','logsr_3','logsr_mean']]\n",
    "target = data[0]['clicked']"
   ]
  },
  {
   "cell_type": "code",
   "execution_count": 74,
   "metadata": {},
   "outputs": [
    {
     "data": {
      "text/plain": [
       "<matplotlib.axes._subplots.AxesSubplot at 0x40253a208>"
      ]
     },
     "execution_count": 74,
     "metadata": {},
     "output_type": "execute_result"
    },
    {
     "data": {
      "image/png": "[encoded data removed]",
      "text/plain": [
       "<matplotlib.figure.Figure at 0x41b26ba20>"
      ]
     },
     "metadata": {},
     "output_type": "display_data"
    }
   ],
   "source": [
    "# Look at the correlation matrix\n",
    "corrmat = pd.concat([price_train,catego_train,vert_train, target],axis=1).corr()\n",
    "plt.subplots(figsize=(12,9))\n",
    "sns.heatmap(corrmat, vmax=0.9, square=True)"
   ]
  },
  {
   "cell_type": "code",
   "execution_count": 75,
   "metadata": {
    "collapsed": true
   },
   "outputs": [],
   "source": [
    "# First make a basel line prediction on all the data\n",
    "X = pd.concat([price_train,catego_train,vert_train],axis=1).values\n",
    "y = target.values\n",
    "X_std = RobustScaler(quantile_range=(25, 75)).fit_transform(X)"
   ]
  },
  {
   "cell_type": "code",
   "execution_count": 76,
   "metadata": {},
   "outputs": [
    {
     "data": {
      "text/plain": [
       "0    724386\n",
       "1     37853\n",
       "Name: clicked, dtype: int64"
      ]
     },
     "execution_count": 76,
     "metadata": {},
     "output_type": "execute_result"
    }
   ],
   "source": [
    "train['clicked'].value_counts()"
   ]
  },
  {
   "cell_type": "code",
   "execution_count": 77,
   "metadata": {},
   "outputs": [
    {
     "name": "stdout",
     "output_type": "stream",
     "text": [
      "4.8 s ± 887 ms per loop (mean ± std. dev. of 7 runs, 1 loop each)\n"
     ]
    }
   ],
   "source": [
    "lr = LogisticRegression()\n",
    "%timeit lr.fit(X_std, y)"
   ]
  },
  {
   "cell_type": "code",
   "execution_count": 78,
   "metadata": {},
   "outputs": [
    {
     "data": {
      "text/plain": [
       "0.95033972284283541"
      ]
     },
     "execution_count": 78,
     "metadata": {},
     "output_type": "execute_result"
    }
   ],
   "source": [
    "sklearn.metrics.accuracy_score(y, lr.predict(X_std))"
   ]
  },
  {
   "cell_type": "code",
   "execution_count": 79,
   "metadata": {},
   "outputs": [
    {
     "name": "stdout",
     "output_type": "stream",
     "text": [
      "[[724386      0]\n",
      " [ 37853      0]]\n"
     ]
    }
   ],
   "source": [
    "y_pred = lr.predict(X_std)\n",
    "confmat = confusion_matrix(y_true=y, y_pred=y_pred)\n",
    "print(confmat)"
   ]
  },
  {
   "cell_type": "code",
   "execution_count": 80,
   "metadata": {},
   "outputs": [
    {
     "name": "stderr",
     "output_type": "stream",
     "text": [
      "f:\\Users\\Tahar\\Anacondanew\\envs\\ztdl\\lib\\site-packages\\sklearn\\metrics\\classification.py:1113: UndefinedMetricWarning: Precision is ill-defined and being set to 0.0 due to no predicted samples.\n",
      "  'precision', 'predicted', average, warn_for)\n"
     ]
    },
    {
     "name": "stdout",
     "output_type": "stream",
     "text": [
      "Precision: 0.000\n",
      "Recall: 0.000\n",
      "F1: 0.000\n"
     ]
    },
    {
     "name": "stderr",
     "output_type": "stream",
     "text": [
      "f:\\Users\\Tahar\\Anacondanew\\envs\\ztdl\\lib\\site-packages\\sklearn\\metrics\\classification.py:1113: UndefinedMetricWarning: F-score is ill-defined and being set to 0.0 due to no predicted samples.\n",
      "  'precision', 'predicted', average, warn_for)\n"
     ]
    }
   ],
   "source": [
    "print('Precision: %.3f' % precision_score(y_true=y, y_pred=y_pred))\n",
    "print('Recall: %.3f' % recall_score(y_true=y, y_pred=y_pred))\n",
    "print('F1: %.3f' % f1_score(y_true=y, y_pred=y_pred))"
   ]
  },
  {
   "cell_type": "code",
   "execution_count": 81,
   "metadata": {
    "scrolled": true
   },
   "outputs": [
    {
     "name": "stdout",
     "output_type": "stream",
     "text": [
      "             precision    recall  f1-score   support\n",
      "\n",
      "not clicked       0.95      1.00      0.97    724386\n",
      "    clicked       0.00      0.00      0.00     37853\n",
      "\n",
      "avg / total       0.90      0.95      0.93    762239\n",
      "\n"
     ]
    },
    {
     "name": "stderr",
     "output_type": "stream",
     "text": [
      "f:\\Users\\Tahar\\Anacondanew\\envs\\ztdl\\lib\\site-packages\\sklearn\\metrics\\classification.py:1113: UndefinedMetricWarning: Precision and F-score are ill-defined and being set to 0.0 in labels with no predicted samples.\n",
      "  'precision', 'predicted', average, warn_for)\n"
     ]
    }
   ],
   "source": [
    "print (classification_report(y, lr.predict(X_std), target_names=['not clicked', 'clicked']))"
   ]
  },
  {
   "cell_type": "code",
   "execution_count": 82,
   "metadata": {},
   "outputs": [
    {
     "name": "stdout",
     "output_type": "stream",
     "text": [
      "[0]\n"
     ]
    }
   ],
   "source": [
    "print(np.unique(lr.predict(X_std)))"
   ]
  },
  {
   "cell_type": "code",
   "execution_count": 83,
   "metadata": {
    "collapsed": true
   },
   "outputs": [],
   "source": [
    "y_pred = lr.predict_proba(X_std)\n",
    "y_pred = [p[1] for p in y_pred]"
   ]
  },
  {
   "cell_type": "code",
   "execution_count": 84,
   "metadata": {},
   "outputs": [
    {
     "name": "stdout",
     "output_type": "stream",
     "text": [
      "0.586049325539\n"
     ]
    }
   ],
   "source": [
    "print(roc_auc_score(y,y_pred))"
   ]
  },
  {
   "cell_type": "markdown",
   "metadata": {},
   "source": [
    "As expected the Accuracy metric doesn't show the full picture, thus, Recall and Area Under the curve. Next we are going to use undersampling and evaluate the performance again"
   ]
  },
  {
   "cell_type": "code",
   "execution_count": 85,
   "metadata": {
    "collapsed": true
   },
   "outputs": [],
   "source": [
    "# Function to sample the data with use of propotion\n",
    "def sampling(data, proportion):\n",
    "    inx = list(data[data['clicked']==0].index)\n",
    "    inx = np.random.choice(inx,size=int(len(data[data['clicked']==1])*proportion))\n",
    "    d_1 = data[data['clicked']==1]\n",
    "    d_0 = data.iloc[inx]\n",
    "    d_new = pd.concat([d_1,d_0])\n",
    "    d_new = d_new.iloc[np.random.permutation(len(d_new))]\n",
    "    d_new.drop('clicked', axis=1,inplace=True)\n",
    "    y_new = target.iloc[d_new.index]\n",
    "    return d_new, y_new"
   ]
  },
  {
   "cell_type": "code",
   "execution_count": 86,
   "metadata": {
    "collapsed": true
   },
   "outputs": [],
   "source": [
    "# we under sample the data such that both classe are equally balanced\n",
    "d_new, y_new = sampling(train, 1)"
   ]
  },
  {
   "cell_type": "code",
   "execution_count": 87,
   "metadata": {},
   "outputs": [
    {
     "data": {
      "text/plain": [
       "((75706, 12), (75706,))"
      ]
     },
     "execution_count": 87,
     "metadata": {},
     "output_type": "execute_result"
    }
   ],
   "source": [
    "d_new.shape, y_new.shape"
   ]
  },
  {
   "cell_type": "code",
   "execution_count": 88,
   "metadata": {},
   "outputs": [
    {
     "name": "stdout",
     "output_type": "stream",
     "text": [
      "379 ms ± 121 ms per loop (mean ± std. dev. of 7 runs, 1 loop each)\n"
     ]
    }
   ],
   "source": [
    "X_sample = d_new.values\n",
    "y_sample = y_new.values\n",
    "X_std_sample = RobustScaler(quantile_range=(25, 75)).fit_transform(X_sample)\n",
    "lr_sample = LogisticRegression()\n",
    "%timeit lr_sample.fit(X_std_sample, y_sample)"
   ]
  },
  {
   "cell_type": "code",
   "execution_count": 89,
   "metadata": {},
   "outputs": [
    {
     "name": "stdout",
     "output_type": "stream",
     "text": [
      "[[21885 15968]\n",
      " [17136 20717]]\n"
     ]
    }
   ],
   "source": [
    "y_pred_sample = lr_sample.predict(X_std_sample)\n",
    "confmat = confusion_matrix(y_true=y_sample, y_pred=y_pred_sample)\n",
    "print(confmat)"
   ]
  },
  {
   "cell_type": "code",
   "execution_count": 90,
   "metadata": {},
   "outputs": [
    {
     "name": "stdout",
     "output_type": "stream",
     "text": [
      "Precision: 0.565\n",
      "Recall: 0.547\n",
      "F1: 0.556\n"
     ]
    }
   ],
   "source": [
    "print('Precision: %.3f' % precision_score(y_true=y_sample, y_pred=y_pred_sample))\n",
    "print('Recall: %.3f' % recall_score(y_true=y_sample, y_pred=y_pred_sample))\n",
    "print('F1: %.3f' % f1_score(y_true=y_sample, y_pred=y_pred_sample))"
   ]
  },
  {
   "cell_type": "code",
   "execution_count": 91,
   "metadata": {},
   "outputs": [
    {
     "name": "stdout",
     "output_type": "stream",
     "text": [
      "             precision    recall  f1-score   support\n",
      "\n",
      "          0       0.56      0.58      0.57     37853\n",
      "          1       0.56      0.55      0.56     37853\n",
      "\n",
      "avg / total       0.56      0.56      0.56     75706\n",
      "\n"
     ]
    }
   ],
   "source": [
    "print (classification_report(y_sample, lr_sample.predict(X_std_sample)))\n"
   ]
  },
  {
   "cell_type": "code",
   "execution_count": 92,
   "metadata": {},
   "outputs": [
    {
     "name": "stdout",
     "output_type": "stream",
     "text": [
      "[0 1]\n"
     ]
    }
   ],
   "source": [
    "print(np.unique(lr_sample.predict(X_std_sample)))"
   ]
  },
  {
   "cell_type": "code",
   "execution_count": 93,
   "metadata": {},
   "outputs": [
    {
     "name": "stdout",
     "output_type": "stream",
     "text": [
      "0.586281519165\n"
     ]
    }
   ],
   "source": [
    "y_pred_sample = lr_sample.predict_proba(X_std_sample)\n",
    "y_pred_sample = [p[1] for p in y_pred_sample]\n",
    "\n",
    "print(roc_auc_score(y_sample,y_pred_sample))"
   ]
  },
  {
   "cell_type": "markdown",
   "metadata": {},
   "source": [
    "**First Observation:** undersampling gave a better picture of the predictions, it will be worthy to see the predictions on the full dataset"
   ]
  },
  {
   "cell_type": "code",
   "execution_count": 94,
   "metadata": {
    "collapsed": true
   },
   "outputs": [],
   "source": [
    "X = pd.concat([price_train,catego_train,vert_train],axis=1).values\n",
    "X_std = RobustScaler(quantile_range=(25, 75)).fit_transform(X)\n",
    "y_pred = lr_sample.predict(X_std)\n",
    "y = target.values\n",
    "confmat = confusion_matrix(y_true=y, y_pred=y_pred)\n"
   ]
  },
  {
   "cell_type": "code",
   "execution_count": 95,
   "metadata": {},
   "outputs": [
    {
     "data": {
      "image/png": "[encoded data removed]",
      "text/plain": [
       "<matplotlib.figure.Figure at 0x41b26f4e0>"
      ]
     },
     "metadata": {},
     "output_type": "display_data"
    }
   ],
   "source": [
    "fig, ax = plt.subplots(figsize=(2.5, 2.5))\n",
    "ax.matshow(confmat, cmap=plt.cm.Blues, alpha=0.3)\n",
    "for i in range(confmat.shape[0]):\n",
    "    for j in range(confmat.shape[1]):\n",
    "        ax.text(x=j, y=i,s=confmat[i, j], va='center', ha='center')\n",
    "plt.xlabel('predicted label')\n",
    "plt.ylabel('true label')\n",
    "plt.show()"
   ]
  },
  {
   "cell_type": "code",
   "execution_count": 96,
   "metadata": {},
   "outputs": [
    {
     "name": "stdout",
     "output_type": "stream",
     "text": [
      "Precision: 0.052\n",
      "Recall: 0.862\n",
      "F1: 0.098\n"
     ]
    }
   ],
   "source": [
    "print('Precision: %.3f' % precision_score(y_true=y, y_pred=y_pred))\n",
    "print('Recall: %.3f' % recall_score(y_true=y, y_pred=y_pred))\n",
    "print('F1: %.3f' % f1_score(y_true=y, y_pred=y_pred))"
   ]
  },
  {
   "cell_type": "code",
   "execution_count": 97,
   "metadata": {
    "scrolled": true
   },
   "outputs": [
    {
     "name": "stdout",
     "output_type": "stream",
     "text": [
      "             precision    recall  f1-score   support\n",
      "\n",
      "not clicked       0.96      0.18      0.30    724386\n",
      "    clicked       0.05      0.86      0.10     37853\n",
      "\n",
      "avg / total       0.92      0.21      0.29    762239\n",
      "\n"
     ]
    }
   ],
   "source": [
    "print (classification_report(y, lr_sample.predict(X_std), target_names=['not clicked', 'clicked']))"
   ]
  },
  {
   "cell_type": "code",
   "execution_count": 98,
   "metadata": {},
   "outputs": [
    {
     "name": "stdout",
     "output_type": "stream",
     "text": [
      "[0 1]\n"
     ]
    }
   ],
   "source": [
    "print(np.unique(lr_sample.predict(X_std)))"
   ]
  },
  {
   "cell_type": "code",
   "execution_count": 99,
   "metadata": {
    "collapsed": true
   },
   "outputs": [],
   "source": [
    "y_pred = lr_sample.predict_proba(X_std)\n",
    "y_pred = [p[1] for p in y_pred]\n",
    "AUC = roc_auc_score(y,y_pred)"
   ]
  },
  {
   "cell_type": "code",
   "execution_count": 100,
   "metadata": {},
   "outputs": [
    {
     "name": "stdout",
     "output_type": "stream",
     "text": [
      "The area under the curve is : 0.5726126031239817\n"
     ]
    }
   ],
   "source": [
    "print('The area under the curve is : {}'.format(AUC))"
   ]
  },
  {
   "cell_type": "code",
   "execution_count": 101,
   "metadata": {},
   "outputs": [
    {
     "name": "stdout",
     "output_type": "stream",
     "text": [
      "out of 37853 clicked classes 32615 were predicted correct which represents an accuracy of 86.16% with a 57.26% AUC\n"
     ]
    }
   ],
   "source": [
    "print('out of {} clicked classes {} were predicted correct which represents an accuracy of {:.2f}% with a {:.2f}% AUC'\\\n",
    "      .format(train['clicked'].value_counts()[1],confmat[1][1], confmat[1][1]/train['clicked'].value_counts()[1]*100, AUC*100))"
   ]
  },
  {
   "cell_type": "markdown",
   "metadata": {},
   "source": [
    "The scores we had so far are promising. The next steps are: \n",
    "- use crossvalidation to reduce error \n",
    "- use of bagging with voting ensemble \n",
    "- finally make submission"
   ]
  },
  {
   "cell_type": "code",
   "execution_count": 102,
   "metadata": {
    "collapsed": true
   },
   "outputs": [],
   "source": [
    "X = pd.concat([price_train,catego_train,vert_train],axis=1).values\n",
    "y = target.values\n",
    "X_std = RobustScaler(quantile_range=(25, 75)).fit_transform(X)\n",
    "X_train, X_test, y_train, y_test = train_test_split(X_std, y, test_size=0.3, random_state=42, stratify=y)"
   ]
  },
  {
   "cell_type": "code",
   "execution_count": 103,
   "metadata": {},
   "outputs": [
    {
     "data": {
      "text/plain": [
       "((533567, 12), (533567,), (228672, 12), (228672,))"
      ]
     },
     "execution_count": 103,
     "metadata": {},
     "output_type": "execute_result"
    }
   ],
   "source": [
    "X_train.shape, y_train.shape, X_test.shape, y_test.shape"
   ]
  },
  {
   "cell_type": "code",
   "execution_count": 104,
   "metadata": {
    "collapsed": true
   },
   "outputs": [],
   "source": [
    "# Select few algorithms to test\n",
    "random_state = 21\n",
    "classifiers = [] # combine all alogorithms in a list\n",
    "classifiers.append(RandomForestClassifier(random_state=random_state))\n",
    "classifiers.append(BernoulliNB())\n",
    "classifiers.append(LogisticRegression(random_state=random_state))"
   ]
  },
  {
   "cell_type": "code",
   "execution_count": 105,
   "metadata": {},
   "outputs": [
    {
     "name": "stdout",
     "output_type": "stream",
     "text": [
      "Cross validation recall score: 0.8811509591326105\n",
      " Test recall score: 0.5840607210626186\n",
      "Cross validation recall score: 0.8936613844870726\n",
      " Test recall score: 0.6003795066413662\n",
      "Cross validation recall score: 0.8874061718098415\n",
      " Test recall score: 0.603415559772296\n",
      "Cross validation recall score: 0.8840700583819849\n",
      " Test recall score: 0.5681214421252372\n",
      "Cross validation recall score: 0.8894912427022519\n",
      " Test recall score: 0.5753320683111954\n",
      "Cross validation recall score: 0.871976647206005\n",
      " Test recall score: 0.5855787476280835\n",
      "Cross validation recall score: 0.8932443703085905\n",
      " Test recall score: 0.581404174573055\n",
      "Cross validation recall score: 0.8853211009174312\n",
      " Test recall score: 0.5776091081593928\n",
      "Cross validation recall score: 0.8853211009174312\n",
      " Test recall score: 0.5878557874762809\n",
      "Cross validation recall score: 0.8786488740617181\n",
      " Test recall score: 0.5893738140417457\n",
      "Cross validation recall score: 0.896163469557965\n",
      " Test recall score: 0.5924098671726755\n",
      "Cross validation recall score: 0.878231859883236\n",
      " Test recall score: 0.5889943074003795\n",
      "Cross validation recall score: 0.8769808173477899\n",
      " Test recall score: 0.5851992409867173\n",
      "Cross validation recall score: 0.8840700583819849\n",
      " Test recall score: 0.6030360531309298\n",
      "Cross validation recall score: 0.877814845704754\n",
      " Test recall score: 0.5829222011385199\n",
      "Cross validation recall score: 0.8861551292743953\n",
      " Test recall score: 0.596584440227704\n",
      "Cross validation recall score: 0.8786488740617181\n",
      " Test recall score: 0.6087286527514232\n",
      "Cross validation recall score: 0.8732276897414513\n",
      " Test recall score: 0.5673624288425048\n",
      "Cross validation recall score: 0.8865721434528774\n",
      " Test recall score: 0.5802656546489564\n",
      "Cross validation recall score: 1.0\n",
      " Test recall score: 1.0\n"
     ]
    }
   ],
   "source": [
    "# bagging with voting ensemble\n",
    "bag_classifiers = [] #list of voting classifiers\n",
    "kfold = KFold(n_splits = 5, shuffle=True, random_state=112) # number of folds for crossvalidation\n",
    "f = int(X_train.shape[0]/X_train[y_train==1].shape[0]) # number of bags\n",
    "k = X_train[y_train==1].shape[0] # length of \n",
    "X_1,y_1 = X_train[y_train==1],y_train[y_train==1]\n",
    "X_0,y_0 = X_train[y_train==0],y_train[y_train==0]\n",
    "scores=[]\n",
    "for i in range(f):\n",
    "    X_cv= X_0[i*k:(i+1)*k]\n",
    "    X_cv = np.vstack((X_1,X_cv))\n",
    "    y_cv = y_0[i*k:(i+1)*k]\n",
    "    y_cv = np.hstack((y_1,y_cv))\n",
    "    X_cv , y_cv = shuffle(X_cv, y_cv, random_state=0)\n",
    "    X_train_new, X_test_new, y_train_new, y_test_new = train_test_split(X_cv, y_cv, test_size=0.1, random_state=55)\n",
    "    X_train_new, X_val, y_train_new, y_val = train_test_split(X_train_new, y_train_new, test_size=0.1, random_state=56)\n",
    "    val_clf=[]\n",
    "    w = [1,1,1]\n",
    "    r_score = 0\n",
    "    pos = 0\n",
    "    for i,classifier in enumerate(classifiers):\n",
    "        classifier.fit(X_train_new,y_train_new)\n",
    "        if recall_score(y_val,classifier.predict(X_val)) > r_score:\n",
    "            pos = i\n",
    "            score = recall_score(y_val,classifier.predict(X_val))\n",
    "        val_clf.append(classifier)\n",
    "    \n",
    "    for i,j in enumerate(w):\n",
    "        if i == pos:\n",
    "            w[i] = 3\n",
    "        else:\n",
    "            w[i] = 1                                            \n",
    "        \n",
    "    votingC = VotingClassifier(estimators=[('rfc', val_clf[0]), ('NB', val_clf[1]),\n",
    "                                           ('LR', val_clf[2])], voting='soft', n_jobs=-1)\n",
    "\n",
    "    votingC = votingC.fit(X_val, y_val)\n",
    "    print('Cross validation recall score: {}\\n Test recall score: {}'.format(recall_score(y_true=y_val, y_pred=votingC.predict(X_val)),recall_score(y_true=y_test_new, y_pred=votingC.predict(X_test_new))))\n",
    "    bag_classifiers.append(votingC)\n",
    "    scores.append(recall_score(y_true=y_test_new, y_pred=votingC.predict(X_test_new)))\n",
    "        \n",
    "\n",
    "        "
   ]
  },
  {
   "cell_type": "code",
   "execution_count": 106,
   "metadata": {},
   "outputs": [
    {
     "name": "stdout",
     "output_type": "stream",
     "text": [
      "Average test recall score: 0.6079316888045541 +/- 0.09060604030757144\n"
     ]
    }
   ],
   "source": [
    "print('Average test recall score: {} +/- {}'.format(np.mean(scores),np.std(scores)))"
   ]
  },
  {
   "cell_type": "markdown",
   "metadata": {},
   "source": [
    "Using (Train, Validation, Test) configuration to evaluate different models shows clearly that the 87% recall score we had at first was due to overfitting, and we would expect the real score to be around 60%. Next we select the best classifier that gives high recall score with the overall test data (Note: test data has ben split using stratification such that we have a class balance approximately similar to original data)"
   ]
  },
  {
   "cell_type": "code",
   "execution_count": 107,
   "metadata": {
    "collapsed": true
   },
   "outputs": [],
   "source": [
    "# Remove last one to avoid overfiting\n",
    "bag_classifiers.remove(bag_classifiers[-1])"
   ]
  },
  {
   "cell_type": "code",
   "execution_count": 108,
   "metadata": {},
   "outputs": [
    {
     "name": "stdout",
     "output_type": "stream",
     "text": [
      "Recall score: 0.5841845720324058\n",
      "Recall score: 0.5949277914758718\n",
      "Recall score: 0.6001232828460725\n",
      "Recall score: 0.5758189503346248\n",
      "Recall score: 0.5937830221909123\n",
      "Recall score: 0.5877949982388165\n",
      "Recall score: 0.6030292356463544\n",
      "Recall score: 0.5877949982388165\n",
      "Recall score: 0.5947516731243395\n",
      "Recall score: 0.596600915815428\n",
      "Recall score: 0.5906128918633322\n",
      "Recall score: 0.5971292708700247\n",
      "Recall score: 0.591229306093695\n",
      "Recall score: 0.6053187742162733\n",
      "Recall score: 0.587442761535752\n",
      "Recall score: 0.5977456851003875\n",
      "Recall score: 0.6076083127861923\n",
      "Recall score: 0.5818069742867207\n",
      "Recall score: 0.594311377245509\n"
     ]
    }
   ],
   "source": [
    "# Select best classifier with test data\n",
    "best_clf = [[0,0]]\n",
    "best_score=0\n",
    "for clf in bag_classifiers:\n",
    "    score=recall_score(y_test,clf.predict(X_test))\n",
    "    print('Recall score: {}'.format(score))\n",
    "    if score> best_score:\n",
    "        best_clf[0][0]=clf\n",
    "        best_clf[0][1]=score\n",
    "        best_score = score\n",
    "    "
   ]
  },
  {
   "cell_type": "code",
   "execution_count": 109,
   "metadata": {},
   "outputs": [
    {
     "name": "stdout",
     "output_type": "stream",
     "text": [
      "The best classifier recall score 60.76% and AUC is 58.14%\n"
     ]
    }
   ],
   "source": [
    "print('The best classifier recall score {:.2f}% and AUC is {:.2f}%'.format(best_clf[0][1]*100,roc_auc_score(y_test,best_clf[0][0].predict(X_test))*100))"
   ]
  },
  {
   "cell_type": "markdown",
   "metadata": {},
   "source": [
    "Now instead of looking at only one of them, we use majority vote"
   ]
  },
  {
   "cell_type": "code",
   "execution_count": 110,
   "metadata": {
    "collapsed": true
   },
   "outputs": [],
   "source": [
    "def maj_vote(X_test,bag_classifiers):\n",
    "    X_meta = np.ones(X_test.shape[0])\n",
    "    for clf in bag_classifiers:\n",
    "        y_pred = clf.predict(X_test)\n",
    "        X_meta = np.vstack((X_meta,y_pred))\n",
    "    X_meta = X_meta[1:].T\n",
    "    y_maj = []\n",
    "    for i,j in enumerate(X_meta):\n",
    "        coun = {0:0,1:0}\n",
    "        for el in j:\n",
    "            coun[el] += 1\n",
    "        if coun[0]<coun[1]:\n",
    "            y_maj.append(1)\n",
    "        else:\n",
    "            y_maj.append(0)\n",
    "    y_maj = np.array(y_maj)\n",
    "    return y_maj"
   ]
  },
  {
   "cell_type": "code",
   "execution_count": 111,
   "metadata": {
    "collapsed": true
   },
   "outputs": [],
   "source": [
    "y_maj = maj_vote(X_test,bag_classifiers)"
   ]
  },
  {
   "cell_type": "code",
   "execution_count": 112,
   "metadata": {},
   "outputs": [
    {
     "data": {
      "text/plain": [
       "array([0, 0, 0, ..., 0, 0, 1])"
      ]
     },
     "execution_count": 112,
     "metadata": {},
     "output_type": "execute_result"
    }
   ],
   "source": [
    "y_maj"
   ]
  },
  {
   "cell_type": "code",
   "execution_count": 113,
   "metadata": {},
   "outputs": [
    {
     "name": "stdout",
     "output_type": "stream",
     "text": [
      "Voting ensemble recall score 60.85% and AUC is 58.66%\n"
     ]
    }
   ],
   "source": [
    "print('Voting ensemble recall score {:.2f}% and AUC is {:.2f}%'.format(recall_score(y_test,y_maj)*100,roc_auc_score(y_test,y_maj)*100))"
   ]
  },
  {
   "cell_type": "markdown",
   "metadata": {},
   "source": [
    "The recall score and area under the curve have both improved, which is a behavior that we would expect from majority vote. This is the model that we are going to use for final submissions\n",
    "\n",
    "Note that there are improvemements to do such : features engineering and features selection, hyper paramters tunning,neural networks, better meta model and stacking architecture"
   ]
  },
  {
   "cell_type": "code",
   "execution_count": 114,
   "metadata": {
    "collapsed": true
   },
   "outputs": [],
   "source": [
    "X_submission = RobustScaler(quantile_range=(25, 75)).fit_transform(data[1].values)\n",
    "Y_test = maj_vote(X_submission,bag_classifiers)"
   ]
  },
  {
   "cell_type": "code",
   "execution_count": 115,
   "metadata": {
    "collapsed": true
   },
   "outputs": [],
   "source": [
    "#Y_test = best_clf[0][0].predict(RobustScaler(quantile_range=(25, 75)).fit_transform(data[1].values))\n",
    "test = pd.DataFrame({'bidid':test_id, 'clicked':Y_test})\n",
    "\n",
    "test.to_csv( 'Big_mama_test_submission.csv' , float_format='%.f', index = False )"
   ]
  },
  {
   "cell_type": "code",
   "execution_count": 116,
   "metadata": {},
   "outputs": [
    {
     "data": {
      "text/plain": [
       "(508158, 2)"
      ]
     },
     "execution_count": 116,
     "metadata": {},
     "output_type": "execute_result"
    }
   ],
   "source": [
    "test.shape"
   ]
  },
  {
   "cell_type": "code",
   "execution_count": 117,
   "metadata": {},
   "outputs": [
    {
     "data": {
      "text/plain": [
       "0    0.636458\n",
       "1    0.363542\n",
       "Name: clicked, dtype: float64"
      ]
     },
     "execution_count": 117,
     "metadata": {},
     "output_type": "execute_result"
    }
   ],
   "source": [
    "test['clicked'].value_counts(normalize=True)"
   ]
  },
  {
   "cell_type": "code",
   "execution_count": 118,
   "metadata": {},
   "outputs": [
    {
     "data": {
      "text/html": [
       "<div>\n",
       "<style>\n",
       "    .dataframe thead tr:only-child th {\n",
       "        text-align: right;\n",
       "    }\n",
       "\n",
       "    .dataframe thead th {\n",
       "        text-align: left;\n",
       "    }\n",
       "\n",
       "    .dataframe tbody tr th {\n",
       "        vertical-align: top;\n",
       "    }\n",
       "</style>\n",
       "<table border=\"1\" class=\"dataframe\">\n",
       "  <thead>\n",
       "    <tr style=\"text-align: right;\">\n",
       "      <th></th>\n",
       "      <th>bidid</th>\n",
       "      <th>clicked</th>\n",
       "    </tr>\n",
       "  </thead>\n",
       "  <tbody>\n",
       "    <tr>\n",
       "      <th>0</th>\n",
       "      <td>VUAbtwAKfUwKG+JOugBfTw==</td>\n",
       "      <td>0</td>\n",
       "    </tr>\n",
       "    <tr>\n",
       "      <th>1</th>\n",
       "      <td>VUAbuAANjzkKwo3v1AB++g==</td>\n",
       "      <td>0</td>\n",
       "    </tr>\n",
       "    <tr>\n",
       "      <th>2</th>\n",
       "      <td>VUAbuQAA39MKwuUk0wBMBQ==</td>\n",
       "      <td>0</td>\n",
       "    </tr>\n",
       "    <tr>\n",
       "      <th>3</th>\n",
       "      <td>VUAbuQAB6HoKG+HGlQAW1w==</td>\n",
       "      <td>1</td>\n",
       "    </tr>\n",
       "    <tr>\n",
       "      <th>4</th>\n",
       "      <td>VUAbuQAJO6cKGxPLvQB1Sw==</td>\n",
       "      <td>0</td>\n",
       "    </tr>\n",
       "  </tbody>\n",
       "</table>\n",
       "</div>"
      ],
      "text/plain": [
       "                      bidid  clicked\n",
       "0  VUAbtwAKfUwKG+JOugBfTw==        0\n",
       "1  VUAbuAANjzkKwo3v1AB++g==        0\n",
       "2  VUAbuQAA39MKwuUk0wBMBQ==        0\n",
       "3  VUAbuQAB6HoKG+HGlQAW1w==        1\n",
       "4  VUAbuQAJO6cKGxPLvQB1Sw==        0"
      ]
     },
     "execution_count": 118,
     "metadata": {},
     "output_type": "execute_result"
    }
   ],
   "source": [
    "test.head()"
   ]
  },
  {
   "cell_type": "code",
   "execution_count": null,
   "metadata": {
    "collapsed": true
   },
   "outputs": [],
   "source": []
  }
 ],
 "metadata": {
  "kernelspec": {
   "display_name": "Python 3",
   "language": "python",
   "name": "python3"
  },
  "language_info": {
   "codemirror_mode": {
    "name": "ipython",
    "version": 3
   },
   "file_extension": ".py",
   "mimetype": "text/x-python",
   "name": "python",
   "nbconvert_exporter": "python",
   "pygments_lexer": "ipython3",
   "version": "3.5.4"
  }
 },
 "nbformat": 4,
 "nbformat_minor": 2
}
